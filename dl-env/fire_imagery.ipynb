{
 "cells": [
  {
   "cell_type": "code",
   "execution_count": 2,
   "metadata": {},
   "outputs": [],
   "source": [
    "import descarteslabs as dl\n",
    "from datetime import datetime\n",
    "from subprocess import check_output\n",
    "import subprocess \n",
    "import json\n",
    "import pickle\n",
    "from datetime import timedelta"
   ]
  },
  {
   "cell_type": "markdown",
   "metadata": {},
   "source": [
    "## Fetch fire pickle"
   ]
  },
  {
   "cell_type": "code",
   "execution_count": 30,
   "metadata": {},
   "outputs": [],
   "source": [
    "def fetch_fire_status():\n",
    "    # Synce fire pickle locally \n",
    "    try: \n",
    "        args = ['gsutil cp gs://dl-fires/imagery/fires.pickle temp/']\n",
    "        p = subprocess.Popen(args, shell=True, stdout=subprocess.PIPE, stderr=subprocess.PIPE)\n",
    "        print(p.communicate())\n",
    "    except:\n",
    "        print \"error, no fire status file\""
   ]
  },
  {
   "cell_type": "markdown",
   "metadata": {},
   "source": [
    "## Read in latest Inciweb report"
   ]
  },
  {
   "cell_type": "code",
   "execution_count": 7,
   "metadata": {},
   "outputs": [],
   "source": [
    "def read_latest_conus_file():\n",
    "    # List all files \n",
    "    args = ['gsutil ls gs://dl-fires/inciweb-data/']\n",
    "    p = subprocess.Popen(args, shell=True, stdout=subprocess.PIPE, stderr=subprocess.PIPE)\n",
    "    inciweb_data_files = p.communicate()[0]\n",
    " \n",
    "    # Isolate latest report  \n",
    "    latest_entry = inciweb_data_files.split('\\ngs://dl-fires/inciweb-data/')[-1]\n",
    "    conus_file = latest_entry.replace('\\n', '')\n",
    "    \n",
    "    # Download and open the latest report     \n",
    "    args = ['gsutil cp gs://dl-fires/inciweb-data/'+ conus_file +' temp/']\n",
    "    p = subprocess.Popen(args, shell=True, stdout=subprocess.PIPE, stderr=subprocess.PIPE)\n",
    "    print p.communicate()\n",
    "    txt = open('temp/'+ conus_file)\n",
    "    file_string_contents = txt.read()\n",
    "    return file_string_contents"
   ]
  },
  {
   "cell_type": "markdown",
   "metadata": {},
   "source": [
    "## Set up temp dir with necessary files"
   ]
  },
  {
   "cell_type": "code",
   "execution_count": 8,
   "metadata": {},
   "outputs": [],
   "source": [
    "def pull_files_local():\n",
    "    # Create local temp file \n",
    "    process = subprocess.call('mkdir temp', shell=True)\n",
    "    # Sync fires status pickle and latest fire report local\n",
    "    fetch_fire_status()\n",
    "    file_string_contents = read_latest_conus_file()\n",
    "    return file_string_contents\n"
   ]
  },
  {
   "cell_type": "markdown",
   "metadata": {},
   "source": [
    "## Open File"
   ]
  },
  {
   "cell_type": "code",
   "execution_count": 9,
   "metadata": {},
   "outputs": [],
   "source": [
    "# This could be refactored to include a class \n",
    "def initiate_fire_instance(fire_string): \n",
    "    fire_arr = fire_string.split()\n",
    "    name_list = fire_arr[:-4]\n",
    "    name = \" \".join(name_list)\n",
    "    fire_id = fire_arr[-4]\n",
    "    lat = float(fire_arr[-3])\n",
    "    lon = float(fire_arr[-2])\n",
    "    coords=[lat,lon]\n",
    "    acres = fire_arr[-1]\n",
    "    check_fire_status(fire_id, name, coords, acres)"
   ]
  },
  {
   "cell_type": "code",
   "execution_count": 10,
   "metadata": {},
   "outputs": [],
   "source": [
    "def iterate_over_file(string):\n",
    "    counter = 0\n",
    "    for line in iter(string.splitlines()):\n",
    "        if counter == 0:\n",
    "            counter +=1\n",
    "        else: \n",
    "            initiate_fire_instance(line)\n",
    "            counter +=1"
   ]
  },
  {
   "cell_type": "markdown",
   "metadata": {},
   "source": [
    "## Read in fire instances"
   ]
  },
  {
   "cell_type": "code",
   "execution_count": 11,
   "metadata": {},
   "outputs": [],
   "source": [
    "def get_fire_instances(): \n",
    "    with open('temp/fires.pickle', 'rb') as handle:\n",
    "        b = pickle.load(handle)\n",
    "    return b"
   ]
  },
  {
   "cell_type": "markdown",
   "metadata": {},
   "source": [
    "## Check if fire instance exists "
   ]
  },
  {
   "cell_type": "code",
   "execution_count": 12,
   "metadata": {},
   "outputs": [],
   "source": [
    "def check_fire_status(fire_id, name, coordinates, acres):\n",
    "    fires = get_fire_instances() \n",
    "    print fires\n",
    "    if fire_id in fires:\n",
    "        try:\n",
    "            last_checked =  fires[fire_id]['last_checked']\n",
    "        except KeyError:\n",
    "            last_checked = fires[fire_id]['date_entered']\n",
    "        existing_fire(name, fire_id, coordinates, last_checked)\n",
    "    else:\n",
    "        print \"New fire\"\n",
    "        new_fire_instance(fire_id, name, coordinates, acres)\n",
    "        "
   ]
  },
  {
   "cell_type": "markdown",
   "metadata": {},
   "source": [
    "## Logic for existing fire instance or new fire instance"
   ]
  },
  {
   "cell_type": "code",
   "execution_count": 13,
   "metadata": {},
   "outputs": [],
   "source": [
    "def new_fire_instance(fire_id, name, coordinates, acres): \n",
    "    five_days_ago = str(datetime.today() + timedelta(days=-5))\n",
    "    find_imagery(name, five_days_ago ,coordinates, fire_id) \n",
    "    \n",
    "    # Make bucket for imagery \n",
    "    'gs://dl-fires/imagery'+ fire_id\n",
    "    with open('temp/fires.pickle', 'rb') as handle:\n",
    "        b = pickle.load(handle)\n",
    "        b[fire_id] = {\n",
    "            'name': 'Mallard Fire',\n",
    "            'date_entered': datetime.today().isoformat()\n",
    "        }\n",
    "        \n",
    "    with open('temp/fires.pickle', 'wb') as handle:\n",
    "        pickle.dump(b, handle, protocol=pickle.HIGHEST_PROTOCOL)\n"
   ]
  },
  {
   "cell_type": "code",
   "execution_count": 14,
   "metadata": {},
   "outputs": [],
   "source": [
    "def existing_fire(name, fire_id, coordinates, last_checked):\n",
    "#     bucket = 'gs://dl-fires/imagery/'+ fire_id\n",
    "    find_imagery(name, last_checked ,coordinates, fire_id ) \n",
    "    with open('temp/fires.pickle', 'rb') as handle:\n",
    "        b = pickle.load(handle)\n",
    "        b[fire_id]['last_checked'] = datetime.today().isoformat()\n",
    "        \n",
    "    with open('temp/fires.pickle', 'wb') as handle:\n",
    "        pickle.dump(b, handle, protocol=pickle.HIGHEST_PROTOCOL)\n"
   ]
  },
  {
   "cell_type": "markdown",
   "metadata": {},
   "source": [
    "## Find imagery"
   ]
  },
  {
   "cell_type": "code",
   "execution_count": 15,
   "metadata": {},
   "outputs": [],
   "source": [
    "def make_tile(coords): \n",
    "    # to get the tile centered around your lat/lon, give it a tilesize of 1 and a pad of the half-width of your desired image (in meters)\n",
    "    print(coords)\n",
    "    bounding_box = dl.raster.dltile_from_latlon(\n",
    "        lat=coords[0],\n",
    "        lon=coords[1], \n",
    "        resolution=30, \n",
    "        tilesize=2, \n",
    "        pad=600)\n",
    "\n",
    "    return bounding_box\n",
    "    "
   ]
  },
  {
   "cell_type": "code",
   "execution_count": 16,
   "metadata": {},
   "outputs": [],
   "source": [
    "def search_products(date, geometry):\n",
    "    print(date)\n",
    "    images = dl.metadata.search(\n",
    "        ['landsat:LC08:01:RT:TOAR', 'sentinel-2:L1C'],\n",
    "        geom= geometry, \n",
    "        start_datetime=date, \n",
    "        end_datetime= datetime.today().isoformat()\n",
    "        )\n",
    "    print(\"The number of total images found is {}.\".format(len(images['features'])))\n",
    "    return [image['id'] for image in images['features']]"
   ]
  },
  {
   "cell_type": "code",
   "execution_count": 17,
   "metadata": {},
   "outputs": [],
   "source": [
    "def download_imagery(ids, geometry, fire_id):\n",
    "    for image_id in ids: \n",
    "        print image_id\n",
    "        dl.raster.raster(\n",
    "                        image_id,\n",
    "                        bands=['swir2', 'swir1', 'nir', 'alpha'],\n",
    "                        scales=[[0,4000], [0, 4000], [0, 4000], None],\n",
    "                        data_type='Byte',\n",
    "                        cutline=geometry,\n",
    "                        save= True,\n",
    "                        outfile_basename=\"temp/\"+image_id)\n",
    "\n",
    "        # Sync images to associated bucket\n",
    "        args = ['gsutil cp  temp/'+image_id+ '.tif gs://dl-fires/imagery/'+fire_id+'/']\n",
    "        p = subprocess.Popen(args, shell=True, stdout=subprocess.PIPE, stderr=subprocess.PIPE)\n",
    "        "
   ]
  },
  {
   "cell_type": "code",
   "execution_count": 18,
   "metadata": {},
   "outputs": [],
   "source": [
    "def find_imagery(fire_name, date, coords, fire_id, footprint=None):\n",
    "    # Where name is a str, coords is an array of [lat,long], and footprint is an optional geometry\n",
    "    # if footprint:\n",
    "        # image_ids = search_products(date,footprint)\n",
    "        # download_imagery(image_ids, footprint)\n",
    "    # else:\n",
    "    dl_tile = make_tile(coords)\n",
    "    image_ids = search_products(date, dl_tile)\n",
    "    download_imagery(image_ids, dl_tile, fire_id)"
   ]
  },
  {
   "cell_type": "markdown",
   "metadata": {},
   "source": [
    "## Run script"
   ]
  },
  {
   "cell_type": "code",
   "execution_count": 20,
   "metadata": {},
   "outputs": [],
   "source": [
    "def clean_up():\n",
    "    # Write fire status pickle file back to cloud\n",
    "    print(\"Writing pickle file to g cloud\")\n",
    "    args = ['gsutil cp temp/fires.pickle gs://dl-fires/imagery/']\n",
    "    p = subprocess.Popen(args, shell=True, stdout=subprocess.PIPE, stderr=subprocess.PIPE)\n",
    "    print(p.communicate())\n",
    "    \n",
    "    # remove temp files \n",
    "    print(\"Deleting local temp files, final step.\")\n",
    "    subprocess.call('rm -rf temp/', shell=True)"
   ]
  },
  {
   "cell_type": "code",
   "execution_count": 26,
   "metadata": {},
   "outputs": [],
   "source": [
    "def run_script():\n",
    "    latest_fires = pull_files_local()\n",
    "    iterate_over_file(latest_fires)\n",
    "    clean_up()"
   ]
  },
  {
   "cell_type": "code",
   "execution_count": 31,
   "metadata": {},
   "outputs": [
    {
     "name": "stdout",
     "output_type": "stream",
     "text": [
      "('', 'Copying gs://dl-fires/imagery/fires.pickle...\\n/ [0 files][    0.0 B/  3.2 KiB]                                                \\r/ [1 files][  3.2 KiB/  3.2 KiB]                                                \\r\\nOperation completed over 1 objects/3.2 KiB.                                      \\n')\n",
      "('', 'Copying gs://dl-fires/inciweb-data/conus_fires_20180521-00UTC.txt...\\n/ [0 files][    0.0 B/  1.0 KiB]                                                \\r/ [1 files][  1.0 KiB/  1.0 KiB]                                                \\r\\nOperation completed over 1 objects/1.0 KiB.                                      \\n')\n",
      "{'id:5744': {'date_entered': '2018-05-18T15:56:49.467602', 'name': 'Mallard Fire', 'last_checked': '2018-05-19T22:39:31.109635'}, 'id:5746': {'date_entered': '2018-05-18T15:59:02.780882', 'name': 'Mallard Fire', 'last_checked': '2018-05-19T22:40:06.749924'}, 'id:5747': {'date_entered': '2018-05-18T16:00:00.427086', 'name': 'Mallard Fire', 'last_checked': '2018-05-19T22:40:11.986916'}, 'id:5740': {'date_entered': '2018-05-18T15:58:31.553089', 'name': 'Mallard Fire', 'last_checked': '2018-05-19T22:39:43.494095'}, 'id:5741': {'date_entered': '2018-05-18T16:00:00.212577', 'name': 'Mallard Fire', 'last_checked': '2018-05-19T22:38:20.877337'}, 'id:5742': {'date_entered': '2018-05-18T15:59:34.533723', 'name': 'Mallard Fire', 'last_checked': '2018-05-19T22:40:06.946345'}, 'id:5763': {'date_entered': '2018-05-18T15:56:19.391119', 'name': 'Mallard Fire', 'last_checked': '2018-05-19T22:39:10.184837'}, 'id:5761': {'date_entered': '2018-05-18T15:56:38.113888', 'name': 'Mallard Fire', 'last_checked': '2018-05-19T22:39:19.001562'}, 'id:5775': {'date_entered': '2018-05-18T15:58:57.676281', 'name': 'Mallard Fire', 'last_checked': '2018-05-19T22:40:02.032686'}, 'id:5791': {'date_entered': '2018-05-18T15:55:39.937570', 'name': 'Mallard Fire', 'last_checked': '2018-05-19T22:39:14.921081'}, 'id:5790': {'date_entered': '2018-05-10', 'name': 'Mallard Fire', 'last_checked': '2018-05-19T22:38:08.305644'}, 'id:5795': {'date_entered': '2018-05-10', 'name': 'Pinery Fire', 'last_checked': '2018-05-19T22:38:07.725749'}, 'id:5794': {'date_entered': '2018-05-18T15:55:28.580390', 'name': 'Mallard Fire', 'last_checked': '2018-05-19T22:38:20.682417'}, 'id:5773': {'date_entered': '2018-05-18T15:55:43.941348', 'name': 'Mallard Fire', 'last_checked': '2018-05-19T22:39:15.129794'}, 'id:5753': {'date_entered': '2018-05-18T16:00:05.985220', 'name': 'Mallard Fire', 'last_checked': '2018-05-19T22:40:12.179213'}, 'id:5750': {'date_entered': '2018-05-18T15:54:29.937619', 'name': 'Mallard Fire', 'last_checked': '2018-05-19T22:38:07.546081'}, 'id:5713': {'date_entered': '2018-05-18T16:00:11.558670', 'name': 'Mallard Fire', 'last_checked': '2018-05-19T22:40:12.377000'}, 'id:5714': {'date_entered': '2018-05-18T16:00:19.487591', 'name': 'Mallard Fire', 'last_checked': '2018-05-19T22:40:12.561879'}, 'id:5385': {'date_entered': '2018-05-18T16:00:55.042189', 'name': 'Mallard Fire', 'last_checked': '2018-05-19T22:40:17.600641'}, 'id:5783': {'date_entered': '2018-05-18T15:56:57.780130', 'name': 'Mallard Fire', 'last_checked': '2018-05-19T22:39:42.595519'}, 'id:5784': {'date_entered': '2018-05-18T15:57:55.065196', 'name': 'Mallard Fire', 'last_checked': '2018-05-19T22:39:43.292331'}, 'id:5785': {'date_entered': '2018-05-18T15:57:09.962711', 'name': 'Mallard Fire', 'last_checked': '2018-05-19T22:39:42.809622'}, 'id:5788': {'date_entered': '2018-05-18T15:57:33.710352', 'name': 'Mallard Fire', 'last_checked': '2018-05-19T22:39:43.090238'}, 'id:5789': {'date_entered': '2018-05-18T15:54:53.047325', 'name': 'Mallard Fire', 'last_checked': '2018-05-19T22:38:08.024680'}, 'id:5806': {'date_entered': '2018-05-19T22:29:29.182512', 'name': 'Mallard Fire', 'last_checked': '2018-05-19T22:38:07.346935'}}\n",
      "[25.9, -81.31]\n",
      "2018-05-19T22:38:07.546081\n",
      "The number of total images found is 0.\n",
      "{'id:5744': {'date_entered': '2018-05-18T15:56:49.467602', 'name': 'Mallard Fire', 'last_checked': '2018-05-19T22:39:31.109635'}, 'id:5746': {'date_entered': '2018-05-18T15:59:02.780882', 'name': 'Mallard Fire', 'last_checked': '2018-05-19T22:40:06.749924'}, 'id:5747': {'date_entered': '2018-05-18T16:00:00.427086', 'name': 'Mallard Fire', 'last_checked': '2018-05-19T22:40:11.986916'}, 'id:5740': {'date_entered': '2018-05-18T15:58:31.553089', 'name': 'Mallard Fire', 'last_checked': '2018-05-19T22:39:43.494095'}, 'id:5741': {'date_entered': '2018-05-18T16:00:00.212577', 'name': 'Mallard Fire', 'last_checked': '2018-05-19T22:38:20.877337'}, 'id:5742': {'date_entered': '2018-05-18T15:59:34.533723', 'name': 'Mallard Fire', 'last_checked': '2018-05-19T22:40:06.946345'}, 'id:5763': {'date_entered': '2018-05-18T15:56:19.391119', 'name': 'Mallard Fire', 'last_checked': '2018-05-19T22:39:10.184837'}, 'id:5761': {'date_entered': '2018-05-18T15:56:38.113888', 'name': 'Mallard Fire', 'last_checked': '2018-05-19T22:39:19.001562'}, 'id:5775': {'date_entered': '2018-05-18T15:58:57.676281', 'name': 'Mallard Fire', 'last_checked': '2018-05-19T22:40:02.032686'}, 'id:5791': {'date_entered': '2018-05-18T15:55:39.937570', 'name': 'Mallard Fire', 'last_checked': '2018-05-19T22:39:14.921081'}, 'id:5790': {'date_entered': '2018-05-10', 'name': 'Mallard Fire', 'last_checked': '2018-05-19T22:38:08.305644'}, 'id:5795': {'date_entered': '2018-05-10', 'name': 'Pinery Fire', 'last_checked': '2018-05-19T22:38:07.725749'}, 'id:5794': {'date_entered': '2018-05-18T15:55:28.580390', 'name': 'Mallard Fire', 'last_checked': '2018-05-19T22:38:20.682417'}, 'id:5773': {'date_entered': '2018-05-18T15:55:43.941348', 'name': 'Mallard Fire', 'last_checked': '2018-05-19T22:39:15.129794'}, 'id:5753': {'date_entered': '2018-05-18T16:00:05.985220', 'name': 'Mallard Fire', 'last_checked': '2018-05-19T22:40:12.179213'}, 'id:5750': {'date_entered': '2018-05-18T15:54:29.937619', 'name': 'Mallard Fire', 'last_checked': '2018-05-20T21:14:04.143662'}, 'id:5713': {'date_entered': '2018-05-18T16:00:11.558670', 'name': 'Mallard Fire', 'last_checked': '2018-05-19T22:40:12.377000'}, 'id:5714': {'date_entered': '2018-05-18T16:00:19.487591', 'name': 'Mallard Fire', 'last_checked': '2018-05-19T22:40:12.561879'}, 'id:5385': {'date_entered': '2018-05-18T16:00:55.042189', 'name': 'Mallard Fire', 'last_checked': '2018-05-19T22:40:17.600641'}, 'id:5783': {'date_entered': '2018-05-18T15:56:57.780130', 'name': 'Mallard Fire', 'last_checked': '2018-05-19T22:39:42.595519'}, 'id:5784': {'date_entered': '2018-05-18T15:57:55.065196', 'name': 'Mallard Fire', 'last_checked': '2018-05-19T22:39:43.292331'}, 'id:5785': {'date_entered': '2018-05-18T15:57:09.962711', 'name': 'Mallard Fire', 'last_checked': '2018-05-19T22:39:42.809622'}, 'id:5788': {'date_entered': '2018-05-18T15:57:33.710352', 'name': 'Mallard Fire', 'last_checked': '2018-05-19T22:39:43.090238'}, 'id:5789': {'date_entered': '2018-05-18T15:54:53.047325', 'name': 'Mallard Fire', 'last_checked': '2018-05-19T22:38:08.024680'}, 'id:5806': {'date_entered': '2018-05-19T22:29:29.182512', 'name': 'Mallard Fire', 'last_checked': '2018-05-19T22:38:07.346935'}}\n",
      "[34.84, -113.28]\n",
      "2018-05-19T22:38:07.346935\n",
      "The number of total images found is 0.\n",
      "{'id:5744': {'date_entered': '2018-05-18T15:56:49.467602', 'name': 'Mallard Fire', 'last_checked': '2018-05-19T22:39:31.109635'}, 'id:5746': {'date_entered': '2018-05-18T15:59:02.780882', 'name': 'Mallard Fire', 'last_checked': '2018-05-19T22:40:06.749924'}, 'id:5747': {'date_entered': '2018-05-18T16:00:00.427086', 'name': 'Mallard Fire', 'last_checked': '2018-05-19T22:40:11.986916'}, 'id:5740': {'date_entered': '2018-05-18T15:58:31.553089', 'name': 'Mallard Fire', 'last_checked': '2018-05-19T22:39:43.494095'}, 'id:5741': {'date_entered': '2018-05-18T16:00:00.212577', 'name': 'Mallard Fire', 'last_checked': '2018-05-19T22:38:20.877337'}, 'id:5742': {'date_entered': '2018-05-18T15:59:34.533723', 'name': 'Mallard Fire', 'last_checked': '2018-05-19T22:40:06.946345'}, 'id:5763': {'date_entered': '2018-05-18T15:56:19.391119', 'name': 'Mallard Fire', 'last_checked': '2018-05-19T22:39:10.184837'}, 'id:5761': {'date_entered': '2018-05-18T15:56:38.113888', 'name': 'Mallard Fire', 'last_checked': '2018-05-19T22:39:19.001562'}, 'id:5775': {'date_entered': '2018-05-18T15:58:57.676281', 'name': 'Mallard Fire', 'last_checked': '2018-05-19T22:40:02.032686'}, 'id:5791': {'date_entered': '2018-05-18T15:55:39.937570', 'name': 'Mallard Fire', 'last_checked': '2018-05-19T22:39:14.921081'}, 'id:5790': {'date_entered': '2018-05-10', 'name': 'Mallard Fire', 'last_checked': '2018-05-19T22:38:08.305644'}, 'id:5795': {'date_entered': '2018-05-10', 'name': 'Pinery Fire', 'last_checked': '2018-05-19T22:38:07.725749'}, 'id:5794': {'date_entered': '2018-05-18T15:55:28.580390', 'name': 'Mallard Fire', 'last_checked': '2018-05-19T22:38:20.682417'}, 'id:5773': {'date_entered': '2018-05-18T15:55:43.941348', 'name': 'Mallard Fire', 'last_checked': '2018-05-19T22:39:15.129794'}, 'id:5753': {'date_entered': '2018-05-18T16:00:05.985220', 'name': 'Mallard Fire', 'last_checked': '2018-05-19T22:40:12.179213'}, 'id:5750': {'date_entered': '2018-05-18T15:54:29.937619', 'name': 'Mallard Fire', 'last_checked': '2018-05-20T21:14:04.143662'}, 'id:5713': {'date_entered': '2018-05-18T16:00:11.558670', 'name': 'Mallard Fire', 'last_checked': '2018-05-19T22:40:12.377000'}, 'id:5714': {'date_entered': '2018-05-18T16:00:19.487591', 'name': 'Mallard Fire', 'last_checked': '2018-05-19T22:40:12.561879'}, 'id:5385': {'date_entered': '2018-05-18T16:00:55.042189', 'name': 'Mallard Fire', 'last_checked': '2018-05-19T22:40:17.600641'}, 'id:5783': {'date_entered': '2018-05-18T15:56:57.780130', 'name': 'Mallard Fire', 'last_checked': '2018-05-19T22:39:42.595519'}, 'id:5784': {'date_entered': '2018-05-18T15:57:55.065196', 'name': 'Mallard Fire', 'last_checked': '2018-05-19T22:39:43.292331'}, 'id:5785': {'date_entered': '2018-05-18T15:57:09.962711', 'name': 'Mallard Fire', 'last_checked': '2018-05-19T22:39:42.809622'}, 'id:5788': {'date_entered': '2018-05-18T15:57:33.710352', 'name': 'Mallard Fire', 'last_checked': '2018-05-19T22:39:43.090238'}, 'id:5789': {'date_entered': '2018-05-18T15:54:53.047325', 'name': 'Mallard Fire', 'last_checked': '2018-05-19T22:38:08.024680'}, 'id:5806': {'date_entered': '2018-05-19T22:29:29.182512', 'name': 'Mallard Fire', 'last_checked': '2018-05-20T21:14:04.401073'}}\n",
      "[31.98, -109.37]\n",
      "2018-05-19T22:38:07.725749\n"
     ]
    },
    {
     "name": "stdout",
     "output_type": "stream",
     "text": [
      "The number of total images found is 0.\n",
      "{'id:5744': {'date_entered': '2018-05-18T15:56:49.467602', 'name': 'Mallard Fire', 'last_checked': '2018-05-19T22:39:31.109635'}, 'id:5746': {'date_entered': '2018-05-18T15:59:02.780882', 'name': 'Mallard Fire', 'last_checked': '2018-05-19T22:40:06.749924'}, 'id:5747': {'date_entered': '2018-05-18T16:00:00.427086', 'name': 'Mallard Fire', 'last_checked': '2018-05-19T22:40:11.986916'}, 'id:5740': {'date_entered': '2018-05-18T15:58:31.553089', 'name': 'Mallard Fire', 'last_checked': '2018-05-19T22:39:43.494095'}, 'id:5741': {'date_entered': '2018-05-18T16:00:00.212577', 'name': 'Mallard Fire', 'last_checked': '2018-05-19T22:38:20.877337'}, 'id:5742': {'date_entered': '2018-05-18T15:59:34.533723', 'name': 'Mallard Fire', 'last_checked': '2018-05-19T22:40:06.946345'}, 'id:5763': {'date_entered': '2018-05-18T15:56:19.391119', 'name': 'Mallard Fire', 'last_checked': '2018-05-19T22:39:10.184837'}, 'id:5761': {'date_entered': '2018-05-18T15:56:38.113888', 'name': 'Mallard Fire', 'last_checked': '2018-05-19T22:39:19.001562'}, 'id:5775': {'date_entered': '2018-05-18T15:58:57.676281', 'name': 'Mallard Fire', 'last_checked': '2018-05-19T22:40:02.032686'}, 'id:5791': {'date_entered': '2018-05-18T15:55:39.937570', 'name': 'Mallard Fire', 'last_checked': '2018-05-19T22:39:14.921081'}, 'id:5790': {'date_entered': '2018-05-10', 'name': 'Mallard Fire', 'last_checked': '2018-05-19T22:38:08.305644'}, 'id:5795': {'date_entered': '2018-05-10', 'name': 'Pinery Fire', 'last_checked': '2018-05-20T21:14:04.634090'}, 'id:5794': {'date_entered': '2018-05-18T15:55:28.580390', 'name': 'Mallard Fire', 'last_checked': '2018-05-19T22:38:20.682417'}, 'id:5773': {'date_entered': '2018-05-18T15:55:43.941348', 'name': 'Mallard Fire', 'last_checked': '2018-05-19T22:39:15.129794'}, 'id:5753': {'date_entered': '2018-05-18T16:00:05.985220', 'name': 'Mallard Fire', 'last_checked': '2018-05-19T22:40:12.179213'}, 'id:5750': {'date_entered': '2018-05-18T15:54:29.937619', 'name': 'Mallard Fire', 'last_checked': '2018-05-20T21:14:04.143662'}, 'id:5713': {'date_entered': '2018-05-18T16:00:11.558670', 'name': 'Mallard Fire', 'last_checked': '2018-05-19T22:40:12.377000'}, 'id:5714': {'date_entered': '2018-05-18T16:00:19.487591', 'name': 'Mallard Fire', 'last_checked': '2018-05-19T22:40:12.561879'}, 'id:5385': {'date_entered': '2018-05-18T16:00:55.042189', 'name': 'Mallard Fire', 'last_checked': '2018-05-19T22:40:17.600641'}, 'id:5783': {'date_entered': '2018-05-18T15:56:57.780130', 'name': 'Mallard Fire', 'last_checked': '2018-05-19T22:39:42.595519'}, 'id:5784': {'date_entered': '2018-05-18T15:57:55.065196', 'name': 'Mallard Fire', 'last_checked': '2018-05-19T22:39:43.292331'}, 'id:5785': {'date_entered': '2018-05-18T15:57:09.962711', 'name': 'Mallard Fire', 'last_checked': '2018-05-19T22:39:42.809622'}, 'id:5788': {'date_entered': '2018-05-18T15:57:33.710352', 'name': 'Mallard Fire', 'last_checked': '2018-05-19T22:39:43.090238'}, 'id:5789': {'date_entered': '2018-05-18T15:54:53.047325', 'name': 'Mallard Fire', 'last_checked': '2018-05-19T22:38:08.024680'}, 'id:5806': {'date_entered': '2018-05-19T22:29:29.182512', 'name': 'Mallard Fire', 'last_checked': '2018-05-20T21:14:04.401073'}}\n",
      "[40.9, -123.16]\n",
      "2018-05-19T22:38:08.024680\n",
      "The number of total images found is 0.\n",
      "{'id:5744': {'date_entered': '2018-05-18T15:56:49.467602', 'name': 'Mallard Fire', 'last_checked': '2018-05-19T22:39:31.109635'}, 'id:5746': {'date_entered': '2018-05-18T15:59:02.780882', 'name': 'Mallard Fire', 'last_checked': '2018-05-19T22:40:06.749924'}, 'id:5747': {'date_entered': '2018-05-18T16:00:00.427086', 'name': 'Mallard Fire', 'last_checked': '2018-05-19T22:40:11.986916'}, 'id:5740': {'date_entered': '2018-05-18T15:58:31.553089', 'name': 'Mallard Fire', 'last_checked': '2018-05-19T22:39:43.494095'}, 'id:5741': {'date_entered': '2018-05-18T16:00:00.212577', 'name': 'Mallard Fire', 'last_checked': '2018-05-19T22:38:20.877337'}, 'id:5742': {'date_entered': '2018-05-18T15:59:34.533723', 'name': 'Mallard Fire', 'last_checked': '2018-05-19T22:40:06.946345'}, 'id:5763': {'date_entered': '2018-05-18T15:56:19.391119', 'name': 'Mallard Fire', 'last_checked': '2018-05-19T22:39:10.184837'}, 'id:5761': {'date_entered': '2018-05-18T15:56:38.113888', 'name': 'Mallard Fire', 'last_checked': '2018-05-19T22:39:19.001562'}, 'id:5775': {'date_entered': '2018-05-18T15:58:57.676281', 'name': 'Mallard Fire', 'last_checked': '2018-05-19T22:40:02.032686'}, 'id:5791': {'date_entered': '2018-05-18T15:55:39.937570', 'name': 'Mallard Fire', 'last_checked': '2018-05-19T22:39:14.921081'}, 'id:5790': {'date_entered': '2018-05-10', 'name': 'Mallard Fire', 'last_checked': '2018-05-19T22:38:08.305644'}, 'id:5795': {'date_entered': '2018-05-10', 'name': 'Pinery Fire', 'last_checked': '2018-05-20T21:14:04.634090'}, 'id:5794': {'date_entered': '2018-05-18T15:55:28.580390', 'name': 'Mallard Fire', 'last_checked': '2018-05-19T22:38:20.682417'}, 'id:5773': {'date_entered': '2018-05-18T15:55:43.941348', 'name': 'Mallard Fire', 'last_checked': '2018-05-19T22:39:15.129794'}, 'id:5753': {'date_entered': '2018-05-18T16:00:05.985220', 'name': 'Mallard Fire', 'last_checked': '2018-05-19T22:40:12.179213'}, 'id:5750': {'date_entered': '2018-05-18T15:54:29.937619', 'name': 'Mallard Fire', 'last_checked': '2018-05-20T21:14:04.143662'}, 'id:5713': {'date_entered': '2018-05-18T16:00:11.558670', 'name': 'Mallard Fire', 'last_checked': '2018-05-19T22:40:12.377000'}, 'id:5714': {'date_entered': '2018-05-18T16:00:19.487591', 'name': 'Mallard Fire', 'last_checked': '2018-05-19T22:40:12.561879'}, 'id:5385': {'date_entered': '2018-05-18T16:00:55.042189', 'name': 'Mallard Fire', 'last_checked': '2018-05-19T22:40:17.600641'}, 'id:5783': {'date_entered': '2018-05-18T15:56:57.780130', 'name': 'Mallard Fire', 'last_checked': '2018-05-19T22:39:42.595519'}, 'id:5784': {'date_entered': '2018-05-18T15:57:55.065196', 'name': 'Mallard Fire', 'last_checked': '2018-05-19T22:39:43.292331'}, 'id:5785': {'date_entered': '2018-05-18T15:57:09.962711', 'name': 'Mallard Fire', 'last_checked': '2018-05-19T22:39:42.809622'}, 'id:5788': {'date_entered': '2018-05-18T15:57:33.710352', 'name': 'Mallard Fire', 'last_checked': '2018-05-19T22:39:43.090238'}, 'id:5789': {'date_entered': '2018-05-18T15:54:53.047325', 'name': 'Mallard Fire', 'last_checked': '2018-05-20T21:14:04.906605'}, 'id:5806': {'date_entered': '2018-05-19T22:29:29.182512', 'name': 'Mallard Fire', 'last_checked': '2018-05-20T21:14:04.401073'}}\n",
      "[34.81, -101.31]\n",
      "2018-05-19T22:38:08.305644\n",
      "The number of total images found is 0.\n",
      "{'id:5744': {'date_entered': '2018-05-18T15:56:49.467602', 'name': 'Mallard Fire', 'last_checked': '2018-05-19T22:39:31.109635'}, 'id:5746': {'date_entered': '2018-05-18T15:59:02.780882', 'name': 'Mallard Fire', 'last_checked': '2018-05-19T22:40:06.749924'}, 'id:5747': {'date_entered': '2018-05-18T16:00:00.427086', 'name': 'Mallard Fire', 'last_checked': '2018-05-19T22:40:11.986916'}, 'id:5740': {'date_entered': '2018-05-18T15:58:31.553089', 'name': 'Mallard Fire', 'last_checked': '2018-05-19T22:39:43.494095'}, 'id:5741': {'date_entered': '2018-05-18T16:00:00.212577', 'name': 'Mallard Fire', 'last_checked': '2018-05-19T22:38:20.877337'}, 'id:5742': {'date_entered': '2018-05-18T15:59:34.533723', 'name': 'Mallard Fire', 'last_checked': '2018-05-19T22:40:06.946345'}, 'id:5763': {'date_entered': '2018-05-18T15:56:19.391119', 'name': 'Mallard Fire', 'last_checked': '2018-05-19T22:39:10.184837'}, 'id:5761': {'date_entered': '2018-05-18T15:56:38.113888', 'name': 'Mallard Fire', 'last_checked': '2018-05-19T22:39:19.001562'}, 'id:5775': {'date_entered': '2018-05-18T15:58:57.676281', 'name': 'Mallard Fire', 'last_checked': '2018-05-19T22:40:02.032686'}, 'id:5791': {'date_entered': '2018-05-18T15:55:39.937570', 'name': 'Mallard Fire', 'last_checked': '2018-05-19T22:39:14.921081'}, 'id:5790': {'date_entered': '2018-05-10', 'name': 'Mallard Fire', 'last_checked': '2018-05-20T21:14:05.133582'}, 'id:5795': {'date_entered': '2018-05-10', 'name': 'Pinery Fire', 'last_checked': '2018-05-20T21:14:04.634090'}, 'id:5794': {'date_entered': '2018-05-18T15:55:28.580390', 'name': 'Mallard Fire', 'last_checked': '2018-05-19T22:38:20.682417'}, 'id:5773': {'date_entered': '2018-05-18T15:55:43.941348', 'name': 'Mallard Fire', 'last_checked': '2018-05-19T22:39:15.129794'}, 'id:5753': {'date_entered': '2018-05-18T16:00:05.985220', 'name': 'Mallard Fire', 'last_checked': '2018-05-19T22:40:12.179213'}, 'id:5750': {'date_entered': '2018-05-18T15:54:29.937619', 'name': 'Mallard Fire', 'last_checked': '2018-05-20T21:14:04.143662'}, 'id:5713': {'date_entered': '2018-05-18T16:00:11.558670', 'name': 'Mallard Fire', 'last_checked': '2018-05-19T22:40:12.377000'}, 'id:5714': {'date_entered': '2018-05-18T16:00:19.487591', 'name': 'Mallard Fire', 'last_checked': '2018-05-19T22:40:12.561879'}, 'id:5385': {'date_entered': '2018-05-18T16:00:55.042189', 'name': 'Mallard Fire', 'last_checked': '2018-05-19T22:40:17.600641'}, 'id:5783': {'date_entered': '2018-05-18T15:56:57.780130', 'name': 'Mallard Fire', 'last_checked': '2018-05-19T22:39:42.595519'}, 'id:5784': {'date_entered': '2018-05-18T15:57:55.065196', 'name': 'Mallard Fire', 'last_checked': '2018-05-19T22:39:43.292331'}, 'id:5785': {'date_entered': '2018-05-18T15:57:09.962711', 'name': 'Mallard Fire', 'last_checked': '2018-05-19T22:39:42.809622'}, 'id:5788': {'date_entered': '2018-05-18T15:57:33.710352', 'name': 'Mallard Fire', 'last_checked': '2018-05-19T22:39:43.090238'}, 'id:5789': {'date_entered': '2018-05-18T15:54:53.047325', 'name': 'Mallard Fire', 'last_checked': '2018-05-20T21:14:04.906605'}, 'id:5806': {'date_entered': '2018-05-19T22:29:29.182512', 'name': 'Mallard Fire', 'last_checked': '2018-05-20T21:14:04.401073'}}\n",
      "[34.34, -110.97]\n",
      "2018-05-19T22:38:20.682417\n",
      "The number of total images found is 0.\n"
     ]
    },
    {
     "name": "stdout",
     "output_type": "stream",
     "text": [
      "{'id:5744': {'date_entered': '2018-05-18T15:56:49.467602', 'name': 'Mallard Fire', 'last_checked': '2018-05-19T22:39:31.109635'}, 'id:5746': {'date_entered': '2018-05-18T15:59:02.780882', 'name': 'Mallard Fire', 'last_checked': '2018-05-19T22:40:06.749924'}, 'id:5747': {'date_entered': '2018-05-18T16:00:00.427086', 'name': 'Mallard Fire', 'last_checked': '2018-05-19T22:40:11.986916'}, 'id:5740': {'date_entered': '2018-05-18T15:58:31.553089', 'name': 'Mallard Fire', 'last_checked': '2018-05-19T22:39:43.494095'}, 'id:5741': {'date_entered': '2018-05-18T16:00:00.212577', 'name': 'Mallard Fire', 'last_checked': '2018-05-19T22:38:20.877337'}, 'id:5742': {'date_entered': '2018-05-18T15:59:34.533723', 'name': 'Mallard Fire', 'last_checked': '2018-05-19T22:40:06.946345'}, 'id:5763': {'date_entered': '2018-05-18T15:56:19.391119', 'name': 'Mallard Fire', 'last_checked': '2018-05-19T22:39:10.184837'}, 'id:5761': {'date_entered': '2018-05-18T15:56:38.113888', 'name': 'Mallard Fire', 'last_checked': '2018-05-19T22:39:19.001562'}, 'id:5775': {'date_entered': '2018-05-18T15:58:57.676281', 'name': 'Mallard Fire', 'last_checked': '2018-05-19T22:40:02.032686'}, 'id:5791': {'date_entered': '2018-05-18T15:55:39.937570', 'name': 'Mallard Fire', 'last_checked': '2018-05-19T22:39:14.921081'}, 'id:5790': {'date_entered': '2018-05-10', 'name': 'Mallard Fire', 'last_checked': '2018-05-20T21:14:05.133582'}, 'id:5795': {'date_entered': '2018-05-10', 'name': 'Pinery Fire', 'last_checked': '2018-05-20T21:14:04.634090'}, 'id:5794': {'date_entered': '2018-05-18T15:55:28.580390', 'name': 'Mallard Fire', 'last_checked': '2018-05-20T21:14:05.330939'}, 'id:5773': {'date_entered': '2018-05-18T15:55:43.941348', 'name': 'Mallard Fire', 'last_checked': '2018-05-19T22:39:15.129794'}, 'id:5753': {'date_entered': '2018-05-18T16:00:05.985220', 'name': 'Mallard Fire', 'last_checked': '2018-05-19T22:40:12.179213'}, 'id:5750': {'date_entered': '2018-05-18T15:54:29.937619', 'name': 'Mallard Fire', 'last_checked': '2018-05-20T21:14:04.143662'}, 'id:5713': {'date_entered': '2018-05-18T16:00:11.558670', 'name': 'Mallard Fire', 'last_checked': '2018-05-19T22:40:12.377000'}, 'id:5714': {'date_entered': '2018-05-18T16:00:19.487591', 'name': 'Mallard Fire', 'last_checked': '2018-05-19T22:40:12.561879'}, 'id:5385': {'date_entered': '2018-05-18T16:00:55.042189', 'name': 'Mallard Fire', 'last_checked': '2018-05-19T22:40:17.600641'}, 'id:5783': {'date_entered': '2018-05-18T15:56:57.780130', 'name': 'Mallard Fire', 'last_checked': '2018-05-19T22:39:42.595519'}, 'id:5784': {'date_entered': '2018-05-18T15:57:55.065196', 'name': 'Mallard Fire', 'last_checked': '2018-05-19T22:39:43.292331'}, 'id:5785': {'date_entered': '2018-05-18T15:57:09.962711', 'name': 'Mallard Fire', 'last_checked': '2018-05-19T22:39:42.809622'}, 'id:5788': {'date_entered': '2018-05-18T15:57:33.710352', 'name': 'Mallard Fire', 'last_checked': '2018-05-19T22:39:43.090238'}, 'id:5789': {'date_entered': '2018-05-18T15:54:53.047325', 'name': 'Mallard Fire', 'last_checked': '2018-05-20T21:14:04.906605'}, 'id:5806': {'date_entered': '2018-05-19T22:29:29.182512', 'name': 'Mallard Fire', 'last_checked': '2018-05-20T21:14:04.401073'}}\n",
      "[35.25, -108.13]\n",
      "2018-05-19T22:38:20.877337\n",
      "The number of total images found is 0.\n",
      "{'id:5744': {'date_entered': '2018-05-18T15:56:49.467602', 'name': 'Mallard Fire', 'last_checked': '2018-05-19T22:39:31.109635'}, 'id:5746': {'date_entered': '2018-05-18T15:59:02.780882', 'name': 'Mallard Fire', 'last_checked': '2018-05-19T22:40:06.749924'}, 'id:5747': {'date_entered': '2018-05-18T16:00:00.427086', 'name': 'Mallard Fire', 'last_checked': '2018-05-19T22:40:11.986916'}, 'id:5740': {'date_entered': '2018-05-18T15:58:31.553089', 'name': 'Mallard Fire', 'last_checked': '2018-05-19T22:39:43.494095'}, 'id:5741': {'date_entered': '2018-05-18T16:00:00.212577', 'name': 'Mallard Fire', 'last_checked': '2018-05-20T21:14:05.554327'}, 'id:5742': {'date_entered': '2018-05-18T15:59:34.533723', 'name': 'Mallard Fire', 'last_checked': '2018-05-19T22:40:06.946345'}, 'id:5763': {'date_entered': '2018-05-18T15:56:19.391119', 'name': 'Mallard Fire', 'last_checked': '2018-05-19T22:39:10.184837'}, 'id:5761': {'date_entered': '2018-05-18T15:56:38.113888', 'name': 'Mallard Fire', 'last_checked': '2018-05-19T22:39:19.001562'}, 'id:5775': {'date_entered': '2018-05-18T15:58:57.676281', 'name': 'Mallard Fire', 'last_checked': '2018-05-19T22:40:02.032686'}, 'id:5791': {'date_entered': '2018-05-18T15:55:39.937570', 'name': 'Mallard Fire', 'last_checked': '2018-05-19T22:39:14.921081'}, 'id:5790': {'date_entered': '2018-05-10', 'name': 'Mallard Fire', 'last_checked': '2018-05-20T21:14:05.133582'}, 'id:5795': {'date_entered': '2018-05-10', 'name': 'Pinery Fire', 'last_checked': '2018-05-20T21:14:04.634090'}, 'id:5794': {'date_entered': '2018-05-18T15:55:28.580390', 'name': 'Mallard Fire', 'last_checked': '2018-05-20T21:14:05.330939'}, 'id:5773': {'date_entered': '2018-05-18T15:55:43.941348', 'name': 'Mallard Fire', 'last_checked': '2018-05-19T22:39:15.129794'}, 'id:5753': {'date_entered': '2018-05-18T16:00:05.985220', 'name': 'Mallard Fire', 'last_checked': '2018-05-19T22:40:12.179213'}, 'id:5750': {'date_entered': '2018-05-18T15:54:29.937619', 'name': 'Mallard Fire', 'last_checked': '2018-05-20T21:14:04.143662'}, 'id:5713': {'date_entered': '2018-05-18T16:00:11.558670', 'name': 'Mallard Fire', 'last_checked': '2018-05-19T22:40:12.377000'}, 'id:5714': {'date_entered': '2018-05-18T16:00:19.487591', 'name': 'Mallard Fire', 'last_checked': '2018-05-19T22:40:12.561879'}, 'id:5385': {'date_entered': '2018-05-18T16:00:55.042189', 'name': 'Mallard Fire', 'last_checked': '2018-05-19T22:40:17.600641'}, 'id:5783': {'date_entered': '2018-05-18T15:56:57.780130', 'name': 'Mallard Fire', 'last_checked': '2018-05-19T22:39:42.595519'}, 'id:5784': {'date_entered': '2018-05-18T15:57:55.065196', 'name': 'Mallard Fire', 'last_checked': '2018-05-19T22:39:43.292331'}, 'id:5785': {'date_entered': '2018-05-18T15:57:09.962711', 'name': 'Mallard Fire', 'last_checked': '2018-05-19T22:39:42.809622'}, 'id:5788': {'date_entered': '2018-05-18T15:57:33.710352', 'name': 'Mallard Fire', 'last_checked': '2018-05-19T22:39:43.090238'}, 'id:5789': {'date_entered': '2018-05-18T15:54:53.047325', 'name': 'Mallard Fire', 'last_checked': '2018-05-20T21:14:04.906605'}, 'id:5806': {'date_entered': '2018-05-19T22:29:29.182512', 'name': 'Mallard Fire', 'last_checked': '2018-05-20T21:14:04.401073'}}\n",
      "[34.56, -111.16]\n",
      "2018-05-19T22:39:10.184837\n",
      "The number of total images found is 0.\n",
      "{'id:5744': {'date_entered': '2018-05-18T15:56:49.467602', 'name': 'Mallard Fire', 'last_checked': '2018-05-19T22:39:31.109635'}, 'id:5746': {'date_entered': '2018-05-18T15:59:02.780882', 'name': 'Mallard Fire', 'last_checked': '2018-05-19T22:40:06.749924'}, 'id:5747': {'date_entered': '2018-05-18T16:00:00.427086', 'name': 'Mallard Fire', 'last_checked': '2018-05-19T22:40:11.986916'}, 'id:5740': {'date_entered': '2018-05-18T15:58:31.553089', 'name': 'Mallard Fire', 'last_checked': '2018-05-19T22:39:43.494095'}, 'id:5741': {'date_entered': '2018-05-18T16:00:00.212577', 'name': 'Mallard Fire', 'last_checked': '2018-05-20T21:14:05.554327'}, 'id:5742': {'date_entered': '2018-05-18T15:59:34.533723', 'name': 'Mallard Fire', 'last_checked': '2018-05-19T22:40:06.946345'}, 'id:5763': {'date_entered': '2018-05-18T15:56:19.391119', 'name': 'Mallard Fire', 'last_checked': '2018-05-20T21:14:05.732905'}, 'id:5761': {'date_entered': '2018-05-18T15:56:38.113888', 'name': 'Mallard Fire', 'last_checked': '2018-05-19T22:39:19.001562'}, 'id:5775': {'date_entered': '2018-05-18T15:58:57.676281', 'name': 'Mallard Fire', 'last_checked': '2018-05-19T22:40:02.032686'}, 'id:5791': {'date_entered': '2018-05-18T15:55:39.937570', 'name': 'Mallard Fire', 'last_checked': '2018-05-19T22:39:14.921081'}, 'id:5790': {'date_entered': '2018-05-10', 'name': 'Mallard Fire', 'last_checked': '2018-05-20T21:14:05.133582'}, 'id:5795': {'date_entered': '2018-05-10', 'name': 'Pinery Fire', 'last_checked': '2018-05-20T21:14:04.634090'}, 'id:5794': {'date_entered': '2018-05-18T15:55:28.580390', 'name': 'Mallard Fire', 'last_checked': '2018-05-20T21:14:05.330939'}, 'id:5773': {'date_entered': '2018-05-18T15:55:43.941348', 'name': 'Mallard Fire', 'last_checked': '2018-05-19T22:39:15.129794'}, 'id:5753': {'date_entered': '2018-05-18T16:00:05.985220', 'name': 'Mallard Fire', 'last_checked': '2018-05-19T22:40:12.179213'}, 'id:5750': {'date_entered': '2018-05-18T15:54:29.937619', 'name': 'Mallard Fire', 'last_checked': '2018-05-20T21:14:04.143662'}, 'id:5713': {'date_entered': '2018-05-18T16:00:11.558670', 'name': 'Mallard Fire', 'last_checked': '2018-05-19T22:40:12.377000'}, 'id:5714': {'date_entered': '2018-05-18T16:00:19.487591', 'name': 'Mallard Fire', 'last_checked': '2018-05-19T22:40:12.561879'}, 'id:5385': {'date_entered': '2018-05-18T16:00:55.042189', 'name': 'Mallard Fire', 'last_checked': '2018-05-19T22:40:17.600641'}, 'id:5783': {'date_entered': '2018-05-18T15:56:57.780130', 'name': 'Mallard Fire', 'last_checked': '2018-05-19T22:39:42.595519'}, 'id:5784': {'date_entered': '2018-05-18T15:57:55.065196', 'name': 'Mallard Fire', 'last_checked': '2018-05-19T22:39:43.292331'}, 'id:5785': {'date_entered': '2018-05-18T15:57:09.962711', 'name': 'Mallard Fire', 'last_checked': '2018-05-19T22:39:42.809622'}, 'id:5788': {'date_entered': '2018-05-18T15:57:33.710352', 'name': 'Mallard Fire', 'last_checked': '2018-05-19T22:39:43.090238'}, 'id:5789': {'date_entered': '2018-05-18T15:54:53.047325', 'name': 'Mallard Fire', 'last_checked': '2018-05-20T21:14:04.906605'}, 'id:5806': {'date_entered': '2018-05-19T22:29:29.182512', 'name': 'Mallard Fire', 'last_checked': '2018-05-20T21:14:04.401073'}}\n",
      "[34.69, -112.37]\n"
     ]
    },
    {
     "name": "stdout",
     "output_type": "stream",
     "text": [
      "2018-05-19T22:39:14.921081\n",
      "The number of total images found is 0.\n",
      "{'id:5744': {'date_entered': '2018-05-18T15:56:49.467602', 'name': 'Mallard Fire', 'last_checked': '2018-05-19T22:39:31.109635'}, 'id:5746': {'date_entered': '2018-05-18T15:59:02.780882', 'name': 'Mallard Fire', 'last_checked': '2018-05-19T22:40:06.749924'}, 'id:5747': {'date_entered': '2018-05-18T16:00:00.427086', 'name': 'Mallard Fire', 'last_checked': '2018-05-19T22:40:11.986916'}, 'id:5740': {'date_entered': '2018-05-18T15:58:31.553089', 'name': 'Mallard Fire', 'last_checked': '2018-05-19T22:39:43.494095'}, 'id:5741': {'date_entered': '2018-05-18T16:00:00.212577', 'name': 'Mallard Fire', 'last_checked': '2018-05-20T21:14:05.554327'}, 'id:5742': {'date_entered': '2018-05-18T15:59:34.533723', 'name': 'Mallard Fire', 'last_checked': '2018-05-19T22:40:06.946345'}, 'id:5763': {'date_entered': '2018-05-18T15:56:19.391119', 'name': 'Mallard Fire', 'last_checked': '2018-05-20T21:14:05.732905'}, 'id:5761': {'date_entered': '2018-05-18T15:56:38.113888', 'name': 'Mallard Fire', 'last_checked': '2018-05-19T22:39:19.001562'}, 'id:5775': {'date_entered': '2018-05-18T15:58:57.676281', 'name': 'Mallard Fire', 'last_checked': '2018-05-19T22:40:02.032686'}, 'id:5791': {'date_entered': '2018-05-18T15:55:39.937570', 'name': 'Mallard Fire', 'last_checked': '2018-05-20T21:14:05.911137'}, 'id:5790': {'date_entered': '2018-05-10', 'name': 'Mallard Fire', 'last_checked': '2018-05-20T21:14:05.133582'}, 'id:5795': {'date_entered': '2018-05-10', 'name': 'Pinery Fire', 'last_checked': '2018-05-20T21:14:04.634090'}, 'id:5794': {'date_entered': '2018-05-18T15:55:28.580390', 'name': 'Mallard Fire', 'last_checked': '2018-05-20T21:14:05.330939'}, 'id:5773': {'date_entered': '2018-05-18T15:55:43.941348', 'name': 'Mallard Fire', 'last_checked': '2018-05-19T22:39:15.129794'}, 'id:5753': {'date_entered': '2018-05-18T16:00:05.985220', 'name': 'Mallard Fire', 'last_checked': '2018-05-19T22:40:12.179213'}, 'id:5750': {'date_entered': '2018-05-18T15:54:29.937619', 'name': 'Mallard Fire', 'last_checked': '2018-05-20T21:14:04.143662'}, 'id:5713': {'date_entered': '2018-05-18T16:00:11.558670', 'name': 'Mallard Fire', 'last_checked': '2018-05-19T22:40:12.377000'}, 'id:5714': {'date_entered': '2018-05-18T16:00:19.487591', 'name': 'Mallard Fire', 'last_checked': '2018-05-19T22:40:12.561879'}, 'id:5385': {'date_entered': '2018-05-18T16:00:55.042189', 'name': 'Mallard Fire', 'last_checked': '2018-05-19T22:40:17.600641'}, 'id:5783': {'date_entered': '2018-05-18T15:56:57.780130', 'name': 'Mallard Fire', 'last_checked': '2018-05-19T22:39:42.595519'}, 'id:5784': {'date_entered': '2018-05-18T15:57:55.065196', 'name': 'Mallard Fire', 'last_checked': '2018-05-19T22:39:43.292331'}, 'id:5785': {'date_entered': '2018-05-18T15:57:09.962711', 'name': 'Mallard Fire', 'last_checked': '2018-05-19T22:39:42.809622'}, 'id:5788': {'date_entered': '2018-05-18T15:57:33.710352', 'name': 'Mallard Fire', 'last_checked': '2018-05-19T22:39:43.090238'}, 'id:5789': {'date_entered': '2018-05-18T15:54:53.047325', 'name': 'Mallard Fire', 'last_checked': '2018-05-20T21:14:04.906605'}, 'id:5806': {'date_entered': '2018-05-19T22:29:29.182512', 'name': 'Mallard Fire', 'last_checked': '2018-05-20T21:14:04.401073'}}\n",
      "[30.55, -104.24]\n",
      "2018-05-19T22:39:15.129794\n",
      "The number of total images found is 0.\n",
      "{'id:5744': {'date_entered': '2018-05-18T15:56:49.467602', 'name': 'Mallard Fire', 'last_checked': '2018-05-19T22:39:31.109635'}, 'id:5746': {'date_entered': '2018-05-18T15:59:02.780882', 'name': 'Mallard Fire', 'last_checked': '2018-05-19T22:40:06.749924'}, 'id:5747': {'date_entered': '2018-05-18T16:00:00.427086', 'name': 'Mallard Fire', 'last_checked': '2018-05-19T22:40:11.986916'}, 'id:5740': {'date_entered': '2018-05-18T15:58:31.553089', 'name': 'Mallard Fire', 'last_checked': '2018-05-19T22:39:43.494095'}, 'id:5741': {'date_entered': '2018-05-18T16:00:00.212577', 'name': 'Mallard Fire', 'last_checked': '2018-05-20T21:14:05.554327'}, 'id:5742': {'date_entered': '2018-05-18T15:59:34.533723', 'name': 'Mallard Fire', 'last_checked': '2018-05-19T22:40:06.946345'}, 'id:5763': {'date_entered': '2018-05-18T15:56:19.391119', 'name': 'Mallard Fire', 'last_checked': '2018-05-20T21:14:05.732905'}, 'id:5761': {'date_entered': '2018-05-18T15:56:38.113888', 'name': 'Mallard Fire', 'last_checked': '2018-05-19T22:39:19.001562'}, 'id:5775': {'date_entered': '2018-05-18T15:58:57.676281', 'name': 'Mallard Fire', 'last_checked': '2018-05-19T22:40:02.032686'}, 'id:5791': {'date_entered': '2018-05-18T15:55:39.937570', 'name': 'Mallard Fire', 'last_checked': '2018-05-20T21:14:05.911137'}, 'id:5790': {'date_entered': '2018-05-10', 'name': 'Mallard Fire', 'last_checked': '2018-05-20T21:14:05.133582'}, 'id:5795': {'date_entered': '2018-05-10', 'name': 'Pinery Fire', 'last_checked': '2018-05-20T21:14:04.634090'}, 'id:5794': {'date_entered': '2018-05-18T15:55:28.580390', 'name': 'Mallard Fire', 'last_checked': '2018-05-20T21:14:05.330939'}, 'id:5773': {'date_entered': '2018-05-18T15:55:43.941348', 'name': 'Mallard Fire', 'last_checked': '2018-05-20T21:14:06.157210'}, 'id:5753': {'date_entered': '2018-05-18T16:00:05.985220', 'name': 'Mallard Fire', 'last_checked': '2018-05-19T22:40:12.179213'}, 'id:5750': {'date_entered': '2018-05-18T15:54:29.937619', 'name': 'Mallard Fire', 'last_checked': '2018-05-20T21:14:04.143662'}, 'id:5713': {'date_entered': '2018-05-18T16:00:11.558670', 'name': 'Mallard Fire', 'last_checked': '2018-05-19T22:40:12.377000'}, 'id:5714': {'date_entered': '2018-05-18T16:00:19.487591', 'name': 'Mallard Fire', 'last_checked': '2018-05-19T22:40:12.561879'}, 'id:5385': {'date_entered': '2018-05-18T16:00:55.042189', 'name': 'Mallard Fire', 'last_checked': '2018-05-19T22:40:17.600641'}, 'id:5783': {'date_entered': '2018-05-18T15:56:57.780130', 'name': 'Mallard Fire', 'last_checked': '2018-05-19T22:39:42.595519'}, 'id:5784': {'date_entered': '2018-05-18T15:57:55.065196', 'name': 'Mallard Fire', 'last_checked': '2018-05-19T22:39:43.292331'}, 'id:5785': {'date_entered': '2018-05-18T15:57:09.962711', 'name': 'Mallard Fire', 'last_checked': '2018-05-19T22:39:42.809622'}, 'id:5788': {'date_entered': '2018-05-18T15:57:33.710352', 'name': 'Mallard Fire', 'last_checked': '2018-05-19T22:39:43.090238'}, 'id:5789': {'date_entered': '2018-05-18T15:54:53.047325', 'name': 'Mallard Fire', 'last_checked': '2018-05-20T21:14:04.906605'}, 'id:5806': {'date_entered': '2018-05-19T22:29:29.182512', 'name': 'Mallard Fire', 'last_checked': '2018-05-20T21:14:04.401073'}}\n",
      "[40.71, -123.55]\n",
      "2018-05-19T22:39:19.001562\n",
      "The number of total images found is 0.\n",
      "{'id:5744': {'date_entered': '2018-05-18T15:56:49.467602', 'name': 'Mallard Fire', 'last_checked': '2018-05-19T22:39:31.109635'}, 'id:5746': {'date_entered': '2018-05-18T15:59:02.780882', 'name': 'Mallard Fire', 'last_checked': '2018-05-19T22:40:06.749924'}, 'id:5747': {'date_entered': '2018-05-18T16:00:00.427086', 'name': 'Mallard Fire', 'last_checked': '2018-05-19T22:40:11.986916'}, 'id:5740': {'date_entered': '2018-05-18T15:58:31.553089', 'name': 'Mallard Fire', 'last_checked': '2018-05-19T22:39:43.494095'}, 'id:5741': {'date_entered': '2018-05-18T16:00:00.212577', 'name': 'Mallard Fire', 'last_checked': '2018-05-20T21:14:05.554327'}, 'id:5742': {'date_entered': '2018-05-18T15:59:34.533723', 'name': 'Mallard Fire', 'last_checked': '2018-05-19T22:40:06.946345'}, 'id:5763': {'date_entered': '2018-05-18T15:56:19.391119', 'name': 'Mallard Fire', 'last_checked': '2018-05-20T21:14:05.732905'}, 'id:5761': {'date_entered': '2018-05-18T15:56:38.113888', 'name': 'Mallard Fire', 'last_checked': '2018-05-20T21:14:06.392411'}, 'id:5775': {'date_entered': '2018-05-18T15:58:57.676281', 'name': 'Mallard Fire', 'last_checked': '2018-05-19T22:40:02.032686'}, 'id:5791': {'date_entered': '2018-05-18T15:55:39.937570', 'name': 'Mallard Fire', 'last_checked': '2018-05-20T21:14:05.911137'}, 'id:5790': {'date_entered': '2018-05-10', 'name': 'Mallard Fire', 'last_checked': '2018-05-20T21:14:05.133582'}, 'id:5795': {'date_entered': '2018-05-10', 'name': 'Pinery Fire', 'last_checked': '2018-05-20T21:14:04.634090'}, 'id:5794': {'date_entered': '2018-05-18T15:55:28.580390', 'name': 'Mallard Fire', 'last_checked': '2018-05-20T21:14:05.330939'}, 'id:5773': {'date_entered': '2018-05-18T15:55:43.941348', 'name': 'Mallard Fire', 'last_checked': '2018-05-20T21:14:06.157210'}, 'id:5753': {'date_entered': '2018-05-18T16:00:05.985220', 'name': 'Mallard Fire', 'last_checked': '2018-05-19T22:40:12.179213'}, 'id:5750': {'date_entered': '2018-05-18T15:54:29.937619', 'name': 'Mallard Fire', 'last_checked': '2018-05-20T21:14:04.143662'}, 'id:5713': {'date_entered': '2018-05-18T16:00:11.558670', 'name': 'Mallard Fire', 'last_checked': '2018-05-19T22:40:12.377000'}, 'id:5714': {'date_entered': '2018-05-18T16:00:19.487591', 'name': 'Mallard Fire', 'last_checked': '2018-05-19T22:40:12.561879'}, 'id:5385': {'date_entered': '2018-05-18T16:00:55.042189', 'name': 'Mallard Fire', 'last_checked': '2018-05-19T22:40:17.600641'}, 'id:5783': {'date_entered': '2018-05-18T15:56:57.780130', 'name': 'Mallard Fire', 'last_checked': '2018-05-19T22:39:42.595519'}, 'id:5784': {'date_entered': '2018-05-18T15:57:55.065196', 'name': 'Mallard Fire', 'last_checked': '2018-05-19T22:39:43.292331'}, 'id:5785': {'date_entered': '2018-05-18T15:57:09.962711', 'name': 'Mallard Fire', 'last_checked': '2018-05-19T22:39:42.809622'}, 'id:5788': {'date_entered': '2018-05-18T15:57:33.710352', 'name': 'Mallard Fire', 'last_checked': '2018-05-19T22:39:43.090238'}, 'id:5789': {'date_entered': '2018-05-18T15:54:53.047325', 'name': 'Mallard Fire', 'last_checked': '2018-05-20T21:14:04.906605'}, 'id:5806': {'date_entered': '2018-05-19T22:29:29.182512', 'name': 'Mallard Fire', 'last_checked': '2018-05-20T21:14:04.401073'}}\n",
      "[38.62, -79.01]\n",
      "2018-05-19T22:39:31.109635\n"
     ]
    },
    {
     "name": "stdout",
     "output_type": "stream",
     "text": [
      "The number of total images found is 0.\n",
      "{'id:5744': {'date_entered': '2018-05-18T15:56:49.467602', 'name': 'Mallard Fire', 'last_checked': '2018-05-20T21:14:06.670746'}, 'id:5746': {'date_entered': '2018-05-18T15:59:02.780882', 'name': 'Mallard Fire', 'last_checked': '2018-05-19T22:40:06.749924'}, 'id:5747': {'date_entered': '2018-05-18T16:00:00.427086', 'name': 'Mallard Fire', 'last_checked': '2018-05-19T22:40:11.986916'}, 'id:5740': {'date_entered': '2018-05-18T15:58:31.553089', 'name': 'Mallard Fire', 'last_checked': '2018-05-19T22:39:43.494095'}, 'id:5741': {'date_entered': '2018-05-18T16:00:00.212577', 'name': 'Mallard Fire', 'last_checked': '2018-05-20T21:14:05.554327'}, 'id:5742': {'date_entered': '2018-05-18T15:59:34.533723', 'name': 'Mallard Fire', 'last_checked': '2018-05-19T22:40:06.946345'}, 'id:5763': {'date_entered': '2018-05-18T15:56:19.391119', 'name': 'Mallard Fire', 'last_checked': '2018-05-20T21:14:05.732905'}, 'id:5761': {'date_entered': '2018-05-18T15:56:38.113888', 'name': 'Mallard Fire', 'last_checked': '2018-05-20T21:14:06.392411'}, 'id:5775': {'date_entered': '2018-05-18T15:58:57.676281', 'name': 'Mallard Fire', 'last_checked': '2018-05-19T22:40:02.032686'}, 'id:5791': {'date_entered': '2018-05-18T15:55:39.937570', 'name': 'Mallard Fire', 'last_checked': '2018-05-20T21:14:05.911137'}, 'id:5790': {'date_entered': '2018-05-10', 'name': 'Mallard Fire', 'last_checked': '2018-05-20T21:14:05.133582'}, 'id:5795': {'date_entered': '2018-05-10', 'name': 'Pinery Fire', 'last_checked': '2018-05-20T21:14:04.634090'}, 'id:5794': {'date_entered': '2018-05-18T15:55:28.580390', 'name': 'Mallard Fire', 'last_checked': '2018-05-20T21:14:05.330939'}, 'id:5773': {'date_entered': '2018-05-18T15:55:43.941348', 'name': 'Mallard Fire', 'last_checked': '2018-05-20T21:14:06.157210'}, 'id:5753': {'date_entered': '2018-05-18T16:00:05.985220', 'name': 'Mallard Fire', 'last_checked': '2018-05-19T22:40:12.179213'}, 'id:5750': {'date_entered': '2018-05-18T15:54:29.937619', 'name': 'Mallard Fire', 'last_checked': '2018-05-20T21:14:04.143662'}, 'id:5713': {'date_entered': '2018-05-18T16:00:11.558670', 'name': 'Mallard Fire', 'last_checked': '2018-05-19T22:40:12.377000'}, 'id:5714': {'date_entered': '2018-05-18T16:00:19.487591', 'name': 'Mallard Fire', 'last_checked': '2018-05-19T22:40:12.561879'}, 'id:5385': {'date_entered': '2018-05-18T16:00:55.042189', 'name': 'Mallard Fire', 'last_checked': '2018-05-19T22:40:17.600641'}, 'id:5783': {'date_entered': '2018-05-18T15:56:57.780130', 'name': 'Mallard Fire', 'last_checked': '2018-05-19T22:39:42.595519'}, 'id:5784': {'date_entered': '2018-05-18T15:57:55.065196', 'name': 'Mallard Fire', 'last_checked': '2018-05-19T22:39:43.292331'}, 'id:5785': {'date_entered': '2018-05-18T15:57:09.962711', 'name': 'Mallard Fire', 'last_checked': '2018-05-19T22:39:42.809622'}, 'id:5788': {'date_entered': '2018-05-18T15:57:33.710352', 'name': 'Mallard Fire', 'last_checked': '2018-05-19T22:39:43.090238'}, 'id:5789': {'date_entered': '2018-05-18T15:54:53.047325', 'name': 'Mallard Fire', 'last_checked': '2018-05-20T21:14:04.906605'}, 'id:5806': {'date_entered': '2018-05-19T22:29:29.182512', 'name': 'Mallard Fire', 'last_checked': '2018-05-20T21:14:04.401073'}}\n",
      "[37.89, -79.18]\n",
      "2018-05-19T22:39:42.595519\n",
      "The number of total images found is 0.\n",
      "{'id:5744': {'date_entered': '2018-05-18T15:56:49.467602', 'name': 'Mallard Fire', 'last_checked': '2018-05-20T21:14:06.670746'}, 'id:5746': {'date_entered': '2018-05-18T15:59:02.780882', 'name': 'Mallard Fire', 'last_checked': '2018-05-19T22:40:06.749924'}, 'id:5747': {'date_entered': '2018-05-18T16:00:00.427086', 'name': 'Mallard Fire', 'last_checked': '2018-05-19T22:40:11.986916'}, 'id:5740': {'date_entered': '2018-05-18T15:58:31.553089', 'name': 'Mallard Fire', 'last_checked': '2018-05-19T22:39:43.494095'}, 'id:5741': {'date_entered': '2018-05-18T16:00:00.212577', 'name': 'Mallard Fire', 'last_checked': '2018-05-20T21:14:05.554327'}, 'id:5742': {'date_entered': '2018-05-18T15:59:34.533723', 'name': 'Mallard Fire', 'last_checked': '2018-05-19T22:40:06.946345'}, 'id:5763': {'date_entered': '2018-05-18T15:56:19.391119', 'name': 'Mallard Fire', 'last_checked': '2018-05-20T21:14:05.732905'}, 'id:5761': {'date_entered': '2018-05-18T15:56:38.113888', 'name': 'Mallard Fire', 'last_checked': '2018-05-20T21:14:06.392411'}, 'id:5775': {'date_entered': '2018-05-18T15:58:57.676281', 'name': 'Mallard Fire', 'last_checked': '2018-05-19T22:40:02.032686'}, 'id:5791': {'date_entered': '2018-05-18T15:55:39.937570', 'name': 'Mallard Fire', 'last_checked': '2018-05-20T21:14:05.911137'}, 'id:5790': {'date_entered': '2018-05-10', 'name': 'Mallard Fire', 'last_checked': '2018-05-20T21:14:05.133582'}, 'id:5795': {'date_entered': '2018-05-10', 'name': 'Pinery Fire', 'last_checked': '2018-05-20T21:14:04.634090'}, 'id:5794': {'date_entered': '2018-05-18T15:55:28.580390', 'name': 'Mallard Fire', 'last_checked': '2018-05-20T21:14:05.330939'}, 'id:5773': {'date_entered': '2018-05-18T15:55:43.941348', 'name': 'Mallard Fire', 'last_checked': '2018-05-20T21:14:06.157210'}, 'id:5753': {'date_entered': '2018-05-18T16:00:05.985220', 'name': 'Mallard Fire', 'last_checked': '2018-05-19T22:40:12.179213'}, 'id:5750': {'date_entered': '2018-05-18T15:54:29.937619', 'name': 'Mallard Fire', 'last_checked': '2018-05-20T21:14:04.143662'}, 'id:5713': {'date_entered': '2018-05-18T16:00:11.558670', 'name': 'Mallard Fire', 'last_checked': '2018-05-19T22:40:12.377000'}, 'id:5714': {'date_entered': '2018-05-18T16:00:19.487591', 'name': 'Mallard Fire', 'last_checked': '2018-05-19T22:40:12.561879'}, 'id:5385': {'date_entered': '2018-05-18T16:00:55.042189', 'name': 'Mallard Fire', 'last_checked': '2018-05-19T22:40:17.600641'}, 'id:5783': {'date_entered': '2018-05-18T15:56:57.780130', 'name': 'Mallard Fire', 'last_checked': '2018-05-20T21:14:06.850022'}, 'id:5784': {'date_entered': '2018-05-18T15:57:55.065196', 'name': 'Mallard Fire', 'last_checked': '2018-05-19T22:39:43.292331'}, 'id:5785': {'date_entered': '2018-05-18T15:57:09.962711', 'name': 'Mallard Fire', 'last_checked': '2018-05-19T22:39:42.809622'}, 'id:5788': {'date_entered': '2018-05-18T15:57:33.710352', 'name': 'Mallard Fire', 'last_checked': '2018-05-19T22:39:43.090238'}, 'id:5789': {'date_entered': '2018-05-18T15:54:53.047325', 'name': 'Mallard Fire', 'last_checked': '2018-05-20T21:14:04.906605'}, 'id:5806': {'date_entered': '2018-05-19T22:29:29.182512', 'name': 'Mallard Fire', 'last_checked': '2018-05-20T21:14:04.401073'}}\n",
      "[26.25, -81.28]\n",
      "2018-05-19T22:39:42.809622\n",
      "The number of total images found is 0.\n",
      "{'id:5744': {'date_entered': '2018-05-18T15:56:49.467602', 'name': 'Mallard Fire', 'last_checked': '2018-05-20T21:14:06.670746'}, 'id:5746': {'date_entered': '2018-05-18T15:59:02.780882', 'name': 'Mallard Fire', 'last_checked': '2018-05-19T22:40:06.749924'}, 'id:5747': {'date_entered': '2018-05-18T16:00:00.427086', 'name': 'Mallard Fire', 'last_checked': '2018-05-19T22:40:11.986916'}, 'id:5740': {'date_entered': '2018-05-18T15:58:31.553089', 'name': 'Mallard Fire', 'last_checked': '2018-05-19T22:39:43.494095'}, 'id:5741': {'date_entered': '2018-05-18T16:00:00.212577', 'name': 'Mallard Fire', 'last_checked': '2018-05-20T21:14:05.554327'}, 'id:5742': {'date_entered': '2018-05-18T15:59:34.533723', 'name': 'Mallard Fire', 'last_checked': '2018-05-19T22:40:06.946345'}, 'id:5763': {'date_entered': '2018-05-18T15:56:19.391119', 'name': 'Mallard Fire', 'last_checked': '2018-05-20T21:14:05.732905'}, 'id:5761': {'date_entered': '2018-05-18T15:56:38.113888', 'name': 'Mallard Fire', 'last_checked': '2018-05-20T21:14:06.392411'}, 'id:5775': {'date_entered': '2018-05-18T15:58:57.676281', 'name': 'Mallard Fire', 'last_checked': '2018-05-19T22:40:02.032686'}, 'id:5791': {'date_entered': '2018-05-18T15:55:39.937570', 'name': 'Mallard Fire', 'last_checked': '2018-05-20T21:14:05.911137'}, 'id:5790': {'date_entered': '2018-05-10', 'name': 'Mallard Fire', 'last_checked': '2018-05-20T21:14:05.133582'}, 'id:5795': {'date_entered': '2018-05-10', 'name': 'Pinery Fire', 'last_checked': '2018-05-20T21:14:04.634090'}, 'id:5794': {'date_entered': '2018-05-18T15:55:28.580390', 'name': 'Mallard Fire', 'last_checked': '2018-05-20T21:14:05.330939'}, 'id:5773': {'date_entered': '2018-05-18T15:55:43.941348', 'name': 'Mallard Fire', 'last_checked': '2018-05-20T21:14:06.157210'}, 'id:5753': {'date_entered': '2018-05-18T16:00:05.985220', 'name': 'Mallard Fire', 'last_checked': '2018-05-19T22:40:12.179213'}, 'id:5750': {'date_entered': '2018-05-18T15:54:29.937619', 'name': 'Mallard Fire', 'last_checked': '2018-05-20T21:14:04.143662'}, 'id:5713': {'date_entered': '2018-05-18T16:00:11.558670', 'name': 'Mallard Fire', 'last_checked': '2018-05-19T22:40:12.377000'}, 'id:5714': {'date_entered': '2018-05-18T16:00:19.487591', 'name': 'Mallard Fire', 'last_checked': '2018-05-19T22:40:12.561879'}, 'id:5385': {'date_entered': '2018-05-18T16:00:55.042189', 'name': 'Mallard Fire', 'last_checked': '2018-05-19T22:40:17.600641'}, 'id:5783': {'date_entered': '2018-05-18T15:56:57.780130', 'name': 'Mallard Fire', 'last_checked': '2018-05-20T21:14:06.850022'}, 'id:5784': {'date_entered': '2018-05-18T15:57:55.065196', 'name': 'Mallard Fire', 'last_checked': '2018-05-19T22:39:43.292331'}, 'id:5785': {'date_entered': '2018-05-18T15:57:09.962711', 'name': 'Mallard Fire', 'last_checked': '2018-05-20T21:14:07.064961'}, 'id:5788': {'date_entered': '2018-05-18T15:57:33.710352', 'name': 'Mallard Fire', 'last_checked': '2018-05-19T22:39:43.090238'}, 'id:5789': {'date_entered': '2018-05-18T15:54:53.047325', 'name': 'Mallard Fire', 'last_checked': '2018-05-20T21:14:04.906605'}, 'id:5806': {'date_entered': '2018-05-19T22:29:29.182512', 'name': 'Mallard Fire', 'last_checked': '2018-05-20T21:14:04.401073'}}\n",
      "[25.98, -80.99]\n"
     ]
    },
    {
     "name": "stdout",
     "output_type": "stream",
     "text": [
      "2018-05-19T22:39:43.090238\n",
      "The number of total images found is 0.\n",
      "{'id:5744': {'date_entered': '2018-05-18T15:56:49.467602', 'name': 'Mallard Fire', 'last_checked': '2018-05-20T21:14:06.670746'}, 'id:5746': {'date_entered': '2018-05-18T15:59:02.780882', 'name': 'Mallard Fire', 'last_checked': '2018-05-19T22:40:06.749924'}, 'id:5747': {'date_entered': '2018-05-18T16:00:00.427086', 'name': 'Mallard Fire', 'last_checked': '2018-05-19T22:40:11.986916'}, 'id:5740': {'date_entered': '2018-05-18T15:58:31.553089', 'name': 'Mallard Fire', 'last_checked': '2018-05-19T22:39:43.494095'}, 'id:5741': {'date_entered': '2018-05-18T16:00:00.212577', 'name': 'Mallard Fire', 'last_checked': '2018-05-20T21:14:05.554327'}, 'id:5742': {'date_entered': '2018-05-18T15:59:34.533723', 'name': 'Mallard Fire', 'last_checked': '2018-05-19T22:40:06.946345'}, 'id:5763': {'date_entered': '2018-05-18T15:56:19.391119', 'name': 'Mallard Fire', 'last_checked': '2018-05-20T21:14:05.732905'}, 'id:5761': {'date_entered': '2018-05-18T15:56:38.113888', 'name': 'Mallard Fire', 'last_checked': '2018-05-20T21:14:06.392411'}, 'id:5775': {'date_entered': '2018-05-18T15:58:57.676281', 'name': 'Mallard Fire', 'last_checked': '2018-05-19T22:40:02.032686'}, 'id:5791': {'date_entered': '2018-05-18T15:55:39.937570', 'name': 'Mallard Fire', 'last_checked': '2018-05-20T21:14:05.911137'}, 'id:5790': {'date_entered': '2018-05-10', 'name': 'Mallard Fire', 'last_checked': '2018-05-20T21:14:05.133582'}, 'id:5795': {'date_entered': '2018-05-10', 'name': 'Pinery Fire', 'last_checked': '2018-05-20T21:14:04.634090'}, 'id:5794': {'date_entered': '2018-05-18T15:55:28.580390', 'name': 'Mallard Fire', 'last_checked': '2018-05-20T21:14:05.330939'}, 'id:5773': {'date_entered': '2018-05-18T15:55:43.941348', 'name': 'Mallard Fire', 'last_checked': '2018-05-20T21:14:06.157210'}, 'id:5753': {'date_entered': '2018-05-18T16:00:05.985220', 'name': 'Mallard Fire', 'last_checked': '2018-05-19T22:40:12.179213'}, 'id:5750': {'date_entered': '2018-05-18T15:54:29.937619', 'name': 'Mallard Fire', 'last_checked': '2018-05-20T21:14:04.143662'}, 'id:5713': {'date_entered': '2018-05-18T16:00:11.558670', 'name': 'Mallard Fire', 'last_checked': '2018-05-19T22:40:12.377000'}, 'id:5714': {'date_entered': '2018-05-18T16:00:19.487591', 'name': 'Mallard Fire', 'last_checked': '2018-05-19T22:40:12.561879'}, 'id:5385': {'date_entered': '2018-05-18T16:00:55.042189', 'name': 'Mallard Fire', 'last_checked': '2018-05-19T22:40:17.600641'}, 'id:5783': {'date_entered': '2018-05-18T15:56:57.780130', 'name': 'Mallard Fire', 'last_checked': '2018-05-20T21:14:06.850022'}, 'id:5784': {'date_entered': '2018-05-18T15:57:55.065196', 'name': 'Mallard Fire', 'last_checked': '2018-05-19T22:39:43.292331'}, 'id:5785': {'date_entered': '2018-05-18T15:57:09.962711', 'name': 'Mallard Fire', 'last_checked': '2018-05-20T21:14:07.064961'}, 'id:5788': {'date_entered': '2018-05-18T15:57:33.710352', 'name': 'Mallard Fire', 'last_checked': '2018-05-20T21:14:07.271309'}, 'id:5789': {'date_entered': '2018-05-18T15:54:53.047325', 'name': 'Mallard Fire', 'last_checked': '2018-05-20T21:14:04.906605'}, 'id:5806': {'date_entered': '2018-05-19T22:29:29.182512', 'name': 'Mallard Fire', 'last_checked': '2018-05-20T21:14:04.401073'}}\n",
      "[25.73, -81.04]\n",
      "2018-05-19T22:39:43.292331\n",
      "The number of total images found is 0.\n",
      "{'id:5744': {'date_entered': '2018-05-18T15:56:49.467602', 'name': 'Mallard Fire', 'last_checked': '2018-05-20T21:14:06.670746'}, 'id:5746': {'date_entered': '2018-05-18T15:59:02.780882', 'name': 'Mallard Fire', 'last_checked': '2018-05-19T22:40:06.749924'}, 'id:5747': {'date_entered': '2018-05-18T16:00:00.427086', 'name': 'Mallard Fire', 'last_checked': '2018-05-19T22:40:11.986916'}, 'id:5740': {'date_entered': '2018-05-18T15:58:31.553089', 'name': 'Mallard Fire', 'last_checked': '2018-05-19T22:39:43.494095'}, 'id:5741': {'date_entered': '2018-05-18T16:00:00.212577', 'name': 'Mallard Fire', 'last_checked': '2018-05-20T21:14:05.554327'}, 'id:5742': {'date_entered': '2018-05-18T15:59:34.533723', 'name': 'Mallard Fire', 'last_checked': '2018-05-19T22:40:06.946345'}, 'id:5763': {'date_entered': '2018-05-18T15:56:19.391119', 'name': 'Mallard Fire', 'last_checked': '2018-05-20T21:14:05.732905'}, 'id:5761': {'date_entered': '2018-05-18T15:56:38.113888', 'name': 'Mallard Fire', 'last_checked': '2018-05-20T21:14:06.392411'}, 'id:5775': {'date_entered': '2018-05-18T15:58:57.676281', 'name': 'Mallard Fire', 'last_checked': '2018-05-19T22:40:02.032686'}, 'id:5791': {'date_entered': '2018-05-18T15:55:39.937570', 'name': 'Mallard Fire', 'last_checked': '2018-05-20T21:14:05.911137'}, 'id:5790': {'date_entered': '2018-05-10', 'name': 'Mallard Fire', 'last_checked': '2018-05-20T21:14:05.133582'}, 'id:5795': {'date_entered': '2018-05-10', 'name': 'Pinery Fire', 'last_checked': '2018-05-20T21:14:04.634090'}, 'id:5794': {'date_entered': '2018-05-18T15:55:28.580390', 'name': 'Mallard Fire', 'last_checked': '2018-05-20T21:14:05.330939'}, 'id:5773': {'date_entered': '2018-05-18T15:55:43.941348', 'name': 'Mallard Fire', 'last_checked': '2018-05-20T21:14:06.157210'}, 'id:5753': {'date_entered': '2018-05-18T16:00:05.985220', 'name': 'Mallard Fire', 'last_checked': '2018-05-19T22:40:12.179213'}, 'id:5750': {'date_entered': '2018-05-18T15:54:29.937619', 'name': 'Mallard Fire', 'last_checked': '2018-05-20T21:14:04.143662'}, 'id:5713': {'date_entered': '2018-05-18T16:00:11.558670', 'name': 'Mallard Fire', 'last_checked': '2018-05-19T22:40:12.377000'}, 'id:5714': {'date_entered': '2018-05-18T16:00:19.487591', 'name': 'Mallard Fire', 'last_checked': '2018-05-19T22:40:12.561879'}, 'id:5385': {'date_entered': '2018-05-18T16:00:55.042189', 'name': 'Mallard Fire', 'last_checked': '2018-05-19T22:40:17.600641'}, 'id:5783': {'date_entered': '2018-05-18T15:56:57.780130', 'name': 'Mallard Fire', 'last_checked': '2018-05-20T21:14:06.850022'}, 'id:5784': {'date_entered': '2018-05-18T15:57:55.065196', 'name': 'Mallard Fire', 'last_checked': '2018-05-20T21:14:07.445836'}, 'id:5785': {'date_entered': '2018-05-18T15:57:09.962711', 'name': 'Mallard Fire', 'last_checked': '2018-05-20T21:14:07.064961'}, 'id:5788': {'date_entered': '2018-05-18T15:57:33.710352', 'name': 'Mallard Fire', 'last_checked': '2018-05-20T21:14:07.271309'}, 'id:5789': {'date_entered': '2018-05-18T15:54:53.047325', 'name': 'Mallard Fire', 'last_checked': '2018-05-20T21:14:04.906605'}, 'id:5806': {'date_entered': '2018-05-19T22:29:29.182512', 'name': 'Mallard Fire', 'last_checked': '2018-05-20T21:14:04.401073'}}\n",
      "[33.66, -109.51]\n",
      "2018-05-19T22:39:43.494095\n",
      "The number of total images found is 0.\n",
      "{'id:5744': {'date_entered': '2018-05-18T15:56:49.467602', 'name': 'Mallard Fire', 'last_checked': '2018-05-20T21:14:06.670746'}, 'id:5746': {'date_entered': '2018-05-18T15:59:02.780882', 'name': 'Mallard Fire', 'last_checked': '2018-05-19T22:40:06.749924'}, 'id:5747': {'date_entered': '2018-05-18T16:00:00.427086', 'name': 'Mallard Fire', 'last_checked': '2018-05-19T22:40:11.986916'}, 'id:5740': {'date_entered': '2018-05-18T15:58:31.553089', 'name': 'Mallard Fire', 'last_checked': '2018-05-20T21:14:07.667149'}, 'id:5741': {'date_entered': '2018-05-18T16:00:00.212577', 'name': 'Mallard Fire', 'last_checked': '2018-05-20T21:14:05.554327'}, 'id:5742': {'date_entered': '2018-05-18T15:59:34.533723', 'name': 'Mallard Fire', 'last_checked': '2018-05-19T22:40:06.946345'}, 'id:5763': {'date_entered': '2018-05-18T15:56:19.391119', 'name': 'Mallard Fire', 'last_checked': '2018-05-20T21:14:05.732905'}, 'id:5761': {'date_entered': '2018-05-18T15:56:38.113888', 'name': 'Mallard Fire', 'last_checked': '2018-05-20T21:14:06.392411'}, 'id:5775': {'date_entered': '2018-05-18T15:58:57.676281', 'name': 'Mallard Fire', 'last_checked': '2018-05-19T22:40:02.032686'}, 'id:5791': {'date_entered': '2018-05-18T15:55:39.937570', 'name': 'Mallard Fire', 'last_checked': '2018-05-20T21:14:05.911137'}, 'id:5790': {'date_entered': '2018-05-10', 'name': 'Mallard Fire', 'last_checked': '2018-05-20T21:14:05.133582'}, 'id:5795': {'date_entered': '2018-05-10', 'name': 'Pinery Fire', 'last_checked': '2018-05-20T21:14:04.634090'}, 'id:5794': {'date_entered': '2018-05-18T15:55:28.580390', 'name': 'Mallard Fire', 'last_checked': '2018-05-20T21:14:05.330939'}, 'id:5773': {'date_entered': '2018-05-18T15:55:43.941348', 'name': 'Mallard Fire', 'last_checked': '2018-05-20T21:14:06.157210'}, 'id:5753': {'date_entered': '2018-05-18T16:00:05.985220', 'name': 'Mallard Fire', 'last_checked': '2018-05-19T22:40:12.179213'}, 'id:5750': {'date_entered': '2018-05-18T15:54:29.937619', 'name': 'Mallard Fire', 'last_checked': '2018-05-20T21:14:04.143662'}, 'id:5713': {'date_entered': '2018-05-18T16:00:11.558670', 'name': 'Mallard Fire', 'last_checked': '2018-05-19T22:40:12.377000'}, 'id:5714': {'date_entered': '2018-05-18T16:00:19.487591', 'name': 'Mallard Fire', 'last_checked': '2018-05-19T22:40:12.561879'}, 'id:5385': {'date_entered': '2018-05-18T16:00:55.042189', 'name': 'Mallard Fire', 'last_checked': '2018-05-19T22:40:17.600641'}, 'id:5783': {'date_entered': '2018-05-18T15:56:57.780130', 'name': 'Mallard Fire', 'last_checked': '2018-05-20T21:14:06.850022'}, 'id:5784': {'date_entered': '2018-05-18T15:57:55.065196', 'name': 'Mallard Fire', 'last_checked': '2018-05-20T21:14:07.445836'}, 'id:5785': {'date_entered': '2018-05-18T15:57:09.962711', 'name': 'Mallard Fire', 'last_checked': '2018-05-20T21:14:07.064961'}, 'id:5788': {'date_entered': '2018-05-18T15:57:33.710352', 'name': 'Mallard Fire', 'last_checked': '2018-05-20T21:14:07.271309'}, 'id:5789': {'date_entered': '2018-05-18T15:54:53.047325', 'name': 'Mallard Fire', 'last_checked': '2018-05-20T21:14:04.906605'}, 'id:5806': {'date_entered': '2018-05-19T22:29:29.182512', 'name': 'Mallard Fire', 'last_checked': '2018-05-20T21:14:04.401073'}}\n",
      "[37.38, -80.06]\n",
      "2018-05-19T22:40:02.032686\n"
     ]
    },
    {
     "name": "stdout",
     "output_type": "stream",
     "text": [
      "The number of total images found is 0.\n",
      "{'id:5744': {'date_entered': '2018-05-18T15:56:49.467602', 'name': 'Mallard Fire', 'last_checked': '2018-05-20T21:14:06.670746'}, 'id:5746': {'date_entered': '2018-05-18T15:59:02.780882', 'name': 'Mallard Fire', 'last_checked': '2018-05-19T22:40:06.749924'}, 'id:5747': {'date_entered': '2018-05-18T16:00:00.427086', 'name': 'Mallard Fire', 'last_checked': '2018-05-19T22:40:11.986916'}, 'id:5740': {'date_entered': '2018-05-18T15:58:31.553089', 'name': 'Mallard Fire', 'last_checked': '2018-05-20T21:14:07.667149'}, 'id:5741': {'date_entered': '2018-05-18T16:00:00.212577', 'name': 'Mallard Fire', 'last_checked': '2018-05-20T21:14:05.554327'}, 'id:5742': {'date_entered': '2018-05-18T15:59:34.533723', 'name': 'Mallard Fire', 'last_checked': '2018-05-19T22:40:06.946345'}, 'id:5763': {'date_entered': '2018-05-18T15:56:19.391119', 'name': 'Mallard Fire', 'last_checked': '2018-05-20T21:14:05.732905'}, 'id:5761': {'date_entered': '2018-05-18T15:56:38.113888', 'name': 'Mallard Fire', 'last_checked': '2018-05-20T21:14:06.392411'}, 'id:5775': {'date_entered': '2018-05-18T15:58:57.676281', 'name': 'Mallard Fire', 'last_checked': '2018-05-20T21:14:08.000775'}, 'id:5791': {'date_entered': '2018-05-18T15:55:39.937570', 'name': 'Mallard Fire', 'last_checked': '2018-05-20T21:14:05.911137'}, 'id:5790': {'date_entered': '2018-05-10', 'name': 'Mallard Fire', 'last_checked': '2018-05-20T21:14:05.133582'}, 'id:5795': {'date_entered': '2018-05-10', 'name': 'Pinery Fire', 'last_checked': '2018-05-20T21:14:04.634090'}, 'id:5794': {'date_entered': '2018-05-18T15:55:28.580390', 'name': 'Mallard Fire', 'last_checked': '2018-05-20T21:14:05.330939'}, 'id:5773': {'date_entered': '2018-05-18T15:55:43.941348', 'name': 'Mallard Fire', 'last_checked': '2018-05-20T21:14:06.157210'}, 'id:5753': {'date_entered': '2018-05-18T16:00:05.985220', 'name': 'Mallard Fire', 'last_checked': '2018-05-19T22:40:12.179213'}, 'id:5750': {'date_entered': '2018-05-18T15:54:29.937619', 'name': 'Mallard Fire', 'last_checked': '2018-05-20T21:14:04.143662'}, 'id:5713': {'date_entered': '2018-05-18T16:00:11.558670', 'name': 'Mallard Fire', 'last_checked': '2018-05-19T22:40:12.377000'}, 'id:5714': {'date_entered': '2018-05-18T16:00:19.487591', 'name': 'Mallard Fire', 'last_checked': '2018-05-19T22:40:12.561879'}, 'id:5385': {'date_entered': '2018-05-18T16:00:55.042189', 'name': 'Mallard Fire', 'last_checked': '2018-05-19T22:40:17.600641'}, 'id:5783': {'date_entered': '2018-05-18T15:56:57.780130', 'name': 'Mallard Fire', 'last_checked': '2018-05-20T21:14:06.850022'}, 'id:5784': {'date_entered': '2018-05-18T15:57:55.065196', 'name': 'Mallard Fire', 'last_checked': '2018-05-20T21:14:07.445836'}, 'id:5785': {'date_entered': '2018-05-18T15:57:09.962711', 'name': 'Mallard Fire', 'last_checked': '2018-05-20T21:14:07.064961'}, 'id:5788': {'date_entered': '2018-05-18T15:57:33.710352', 'name': 'Mallard Fire', 'last_checked': '2018-05-20T21:14:07.271309'}, 'id:5789': {'date_entered': '2018-05-18T15:54:53.047325', 'name': 'Mallard Fire', 'last_checked': '2018-05-20T21:14:04.906605'}, 'id:5806': {'date_entered': '2018-05-19T22:29:29.182512', 'name': 'Mallard Fire', 'last_checked': '2018-05-20T21:14:04.401073'}}\n",
      "[35.85, -99.21]\n",
      "2018-05-19T22:40:06.749924\n",
      "The number of total images found is 0.\n",
      "{'id:5744': {'date_entered': '2018-05-18T15:56:49.467602', 'name': 'Mallard Fire', 'last_checked': '2018-05-20T21:14:06.670746'}, 'id:5746': {'date_entered': '2018-05-18T15:59:02.780882', 'name': 'Mallard Fire', 'last_checked': '2018-05-20T21:14:08.203570'}, 'id:5747': {'date_entered': '2018-05-18T16:00:00.427086', 'name': 'Mallard Fire', 'last_checked': '2018-05-19T22:40:11.986916'}, 'id:5740': {'date_entered': '2018-05-18T15:58:31.553089', 'name': 'Mallard Fire', 'last_checked': '2018-05-20T21:14:07.667149'}, 'id:5741': {'date_entered': '2018-05-18T16:00:00.212577', 'name': 'Mallard Fire', 'last_checked': '2018-05-20T21:14:05.554327'}, 'id:5742': {'date_entered': '2018-05-18T15:59:34.533723', 'name': 'Mallard Fire', 'last_checked': '2018-05-19T22:40:06.946345'}, 'id:5763': {'date_entered': '2018-05-18T15:56:19.391119', 'name': 'Mallard Fire', 'last_checked': '2018-05-20T21:14:05.732905'}, 'id:5761': {'date_entered': '2018-05-18T15:56:38.113888', 'name': 'Mallard Fire', 'last_checked': '2018-05-20T21:14:06.392411'}, 'id:5775': {'date_entered': '2018-05-18T15:58:57.676281', 'name': 'Mallard Fire', 'last_checked': '2018-05-20T21:14:08.000775'}, 'id:5791': {'date_entered': '2018-05-18T15:55:39.937570', 'name': 'Mallard Fire', 'last_checked': '2018-05-20T21:14:05.911137'}, 'id:5790': {'date_entered': '2018-05-10', 'name': 'Mallard Fire', 'last_checked': '2018-05-20T21:14:05.133582'}, 'id:5795': {'date_entered': '2018-05-10', 'name': 'Pinery Fire', 'last_checked': '2018-05-20T21:14:04.634090'}, 'id:5794': {'date_entered': '2018-05-18T15:55:28.580390', 'name': 'Mallard Fire', 'last_checked': '2018-05-20T21:14:05.330939'}, 'id:5773': {'date_entered': '2018-05-18T15:55:43.941348', 'name': 'Mallard Fire', 'last_checked': '2018-05-20T21:14:06.157210'}, 'id:5753': {'date_entered': '2018-05-18T16:00:05.985220', 'name': 'Mallard Fire', 'last_checked': '2018-05-19T22:40:12.179213'}, 'id:5750': {'date_entered': '2018-05-18T15:54:29.937619', 'name': 'Mallard Fire', 'last_checked': '2018-05-20T21:14:04.143662'}, 'id:5713': {'date_entered': '2018-05-18T16:00:11.558670', 'name': 'Mallard Fire', 'last_checked': '2018-05-19T22:40:12.377000'}, 'id:5714': {'date_entered': '2018-05-18T16:00:19.487591', 'name': 'Mallard Fire', 'last_checked': '2018-05-19T22:40:12.561879'}, 'id:5385': {'date_entered': '2018-05-18T16:00:55.042189', 'name': 'Mallard Fire', 'last_checked': '2018-05-19T22:40:17.600641'}, 'id:5783': {'date_entered': '2018-05-18T15:56:57.780130', 'name': 'Mallard Fire', 'last_checked': '2018-05-20T21:14:06.850022'}, 'id:5784': {'date_entered': '2018-05-18T15:57:55.065196', 'name': 'Mallard Fire', 'last_checked': '2018-05-20T21:14:07.445836'}, 'id:5785': {'date_entered': '2018-05-18T15:57:09.962711', 'name': 'Mallard Fire', 'last_checked': '2018-05-20T21:14:07.064961'}, 'id:5788': {'date_entered': '2018-05-18T15:57:33.710352', 'name': 'Mallard Fire', 'last_checked': '2018-05-20T21:14:07.271309'}, 'id:5789': {'date_entered': '2018-05-18T15:54:53.047325', 'name': 'Mallard Fire', 'last_checked': '2018-05-20T21:14:04.906605'}, 'id:5806': {'date_entered': '2018-05-19T22:29:29.182512', 'name': 'Mallard Fire', 'last_checked': '2018-05-20T21:14:04.401073'}}\n",
      "[35.19, -108.14]\n",
      "2018-05-19T22:40:06.946345\n",
      "The number of total images found is 0.\n",
      "{'id:5744': {'date_entered': '2018-05-18T15:56:49.467602', 'name': 'Mallard Fire', 'last_checked': '2018-05-20T21:14:06.670746'}, 'id:5746': {'date_entered': '2018-05-18T15:59:02.780882', 'name': 'Mallard Fire', 'last_checked': '2018-05-20T21:14:08.203570'}, 'id:5747': {'date_entered': '2018-05-18T16:00:00.427086', 'name': 'Mallard Fire', 'last_checked': '2018-05-19T22:40:11.986916'}, 'id:5740': {'date_entered': '2018-05-18T15:58:31.553089', 'name': 'Mallard Fire', 'last_checked': '2018-05-20T21:14:07.667149'}, 'id:5741': {'date_entered': '2018-05-18T16:00:00.212577', 'name': 'Mallard Fire', 'last_checked': '2018-05-20T21:14:05.554327'}, 'id:5742': {'date_entered': '2018-05-18T15:59:34.533723', 'name': 'Mallard Fire', 'last_checked': '2018-05-20T21:14:08.406275'}, 'id:5763': {'date_entered': '2018-05-18T15:56:19.391119', 'name': 'Mallard Fire', 'last_checked': '2018-05-20T21:14:05.732905'}, 'id:5761': {'date_entered': '2018-05-18T15:56:38.113888', 'name': 'Mallard Fire', 'last_checked': '2018-05-20T21:14:06.392411'}, 'id:5775': {'date_entered': '2018-05-18T15:58:57.676281', 'name': 'Mallard Fire', 'last_checked': '2018-05-20T21:14:08.000775'}, 'id:5791': {'date_entered': '2018-05-18T15:55:39.937570', 'name': 'Mallard Fire', 'last_checked': '2018-05-20T21:14:05.911137'}, 'id:5790': {'date_entered': '2018-05-10', 'name': 'Mallard Fire', 'last_checked': '2018-05-20T21:14:05.133582'}, 'id:5795': {'date_entered': '2018-05-10', 'name': 'Pinery Fire', 'last_checked': '2018-05-20T21:14:04.634090'}, 'id:5794': {'date_entered': '2018-05-18T15:55:28.580390', 'name': 'Mallard Fire', 'last_checked': '2018-05-20T21:14:05.330939'}, 'id:5773': {'date_entered': '2018-05-18T15:55:43.941348', 'name': 'Mallard Fire', 'last_checked': '2018-05-20T21:14:06.157210'}, 'id:5753': {'date_entered': '2018-05-18T16:00:05.985220', 'name': 'Mallard Fire', 'last_checked': '2018-05-19T22:40:12.179213'}, 'id:5750': {'date_entered': '2018-05-18T15:54:29.937619', 'name': 'Mallard Fire', 'last_checked': '2018-05-20T21:14:04.143662'}, 'id:5713': {'date_entered': '2018-05-18T16:00:11.558670', 'name': 'Mallard Fire', 'last_checked': '2018-05-19T22:40:12.377000'}, 'id:5714': {'date_entered': '2018-05-18T16:00:19.487591', 'name': 'Mallard Fire', 'last_checked': '2018-05-19T22:40:12.561879'}, 'id:5385': {'date_entered': '2018-05-18T16:00:55.042189', 'name': 'Mallard Fire', 'last_checked': '2018-05-19T22:40:17.600641'}, 'id:5783': {'date_entered': '2018-05-18T15:56:57.780130', 'name': 'Mallard Fire', 'last_checked': '2018-05-20T21:14:06.850022'}, 'id:5784': {'date_entered': '2018-05-18T15:57:55.065196', 'name': 'Mallard Fire', 'last_checked': '2018-05-20T21:14:07.445836'}, 'id:5785': {'date_entered': '2018-05-18T15:57:09.962711', 'name': 'Mallard Fire', 'last_checked': '2018-05-20T21:14:07.064961'}, 'id:5788': {'date_entered': '2018-05-18T15:57:33.710352', 'name': 'Mallard Fire', 'last_checked': '2018-05-20T21:14:07.271309'}, 'id:5789': {'date_entered': '2018-05-18T15:54:53.047325', 'name': 'Mallard Fire', 'last_checked': '2018-05-20T21:14:04.906605'}, 'id:5806': {'date_entered': '2018-05-19T22:29:29.182512', 'name': 'Mallard Fire', 'last_checked': '2018-05-20T21:14:04.401073'}}\n",
      "[36.52, -99.4]\n",
      "2018-05-19T22:40:11.986916\n"
     ]
    },
    {
     "name": "stdout",
     "output_type": "stream",
     "text": [
      "The number of total images found is 0.\n",
      "{'id:5744': {'date_entered': '2018-05-18T15:56:49.467602', 'name': 'Mallard Fire', 'last_checked': '2018-05-20T21:14:06.670746'}, 'id:5746': {'date_entered': '2018-05-18T15:59:02.780882', 'name': 'Mallard Fire', 'last_checked': '2018-05-20T21:14:08.203570'}, 'id:5747': {'date_entered': '2018-05-18T16:00:00.427086', 'name': 'Mallard Fire', 'last_checked': '2018-05-20T21:14:08.625881'}, 'id:5740': {'date_entered': '2018-05-18T15:58:31.553089', 'name': 'Mallard Fire', 'last_checked': '2018-05-20T21:14:07.667149'}, 'id:5741': {'date_entered': '2018-05-18T16:00:00.212577', 'name': 'Mallard Fire', 'last_checked': '2018-05-20T21:14:05.554327'}, 'id:5742': {'date_entered': '2018-05-18T15:59:34.533723', 'name': 'Mallard Fire', 'last_checked': '2018-05-20T21:14:08.406275'}, 'id:5763': {'date_entered': '2018-05-18T15:56:19.391119', 'name': 'Mallard Fire', 'last_checked': '2018-05-20T21:14:05.732905'}, 'id:5761': {'date_entered': '2018-05-18T15:56:38.113888', 'name': 'Mallard Fire', 'last_checked': '2018-05-20T21:14:06.392411'}, 'id:5775': {'date_entered': '2018-05-18T15:58:57.676281', 'name': 'Mallard Fire', 'last_checked': '2018-05-20T21:14:08.000775'}, 'id:5791': {'date_entered': '2018-05-18T15:55:39.937570', 'name': 'Mallard Fire', 'last_checked': '2018-05-20T21:14:05.911137'}, 'id:5790': {'date_entered': '2018-05-10', 'name': 'Mallard Fire', 'last_checked': '2018-05-20T21:14:05.133582'}, 'id:5795': {'date_entered': '2018-05-10', 'name': 'Pinery Fire', 'last_checked': '2018-05-20T21:14:04.634090'}, 'id:5794': {'date_entered': '2018-05-18T15:55:28.580390', 'name': 'Mallard Fire', 'last_checked': '2018-05-20T21:14:05.330939'}, 'id:5773': {'date_entered': '2018-05-18T15:55:43.941348', 'name': 'Mallard Fire', 'last_checked': '2018-05-20T21:14:06.157210'}, 'id:5753': {'date_entered': '2018-05-18T16:00:05.985220', 'name': 'Mallard Fire', 'last_checked': '2018-05-19T22:40:12.179213'}, 'id:5750': {'date_entered': '2018-05-18T15:54:29.937619', 'name': 'Mallard Fire', 'last_checked': '2018-05-20T21:14:04.143662'}, 'id:5713': {'date_entered': '2018-05-18T16:00:11.558670', 'name': 'Mallard Fire', 'last_checked': '2018-05-19T22:40:12.377000'}, 'id:5714': {'date_entered': '2018-05-18T16:00:19.487591', 'name': 'Mallard Fire', 'last_checked': '2018-05-19T22:40:12.561879'}, 'id:5385': {'date_entered': '2018-05-18T16:00:55.042189', 'name': 'Mallard Fire', 'last_checked': '2018-05-19T22:40:17.600641'}, 'id:5783': {'date_entered': '2018-05-18T15:56:57.780130', 'name': 'Mallard Fire', 'last_checked': '2018-05-20T21:14:06.850022'}, 'id:5784': {'date_entered': '2018-05-18T15:57:55.065196', 'name': 'Mallard Fire', 'last_checked': '2018-05-20T21:14:07.445836'}, 'id:5785': {'date_entered': '2018-05-18T15:57:09.962711', 'name': 'Mallard Fire', 'last_checked': '2018-05-20T21:14:07.064961'}, 'id:5788': {'date_entered': '2018-05-18T15:57:33.710352', 'name': 'Mallard Fire', 'last_checked': '2018-05-20T21:14:07.271309'}, 'id:5789': {'date_entered': '2018-05-18T15:54:53.047325', 'name': 'Mallard Fire', 'last_checked': '2018-05-20T21:14:04.906605'}, 'id:5806': {'date_entered': '2018-05-19T22:29:29.182512', 'name': 'Mallard Fire', 'last_checked': '2018-05-20T21:14:04.401073'}}\n",
      "[38.53, -104.67]\n",
      "2018-05-19T22:40:12.179213\n",
      "The number of total images found is 0.\n",
      "{'id:5744': {'date_entered': '2018-05-18T15:56:49.467602', 'name': 'Mallard Fire', 'last_checked': '2018-05-20T21:14:06.670746'}, 'id:5746': {'date_entered': '2018-05-18T15:59:02.780882', 'name': 'Mallard Fire', 'last_checked': '2018-05-20T21:14:08.203570'}, 'id:5747': {'date_entered': '2018-05-18T16:00:00.427086', 'name': 'Mallard Fire', 'last_checked': '2018-05-20T21:14:08.625881'}, 'id:5740': {'date_entered': '2018-05-18T15:58:31.553089', 'name': 'Mallard Fire', 'last_checked': '2018-05-20T21:14:07.667149'}, 'id:5741': {'date_entered': '2018-05-18T16:00:00.212577', 'name': 'Mallard Fire', 'last_checked': '2018-05-20T21:14:05.554327'}, 'id:5742': {'date_entered': '2018-05-18T15:59:34.533723', 'name': 'Mallard Fire', 'last_checked': '2018-05-20T21:14:08.406275'}, 'id:5763': {'date_entered': '2018-05-18T15:56:19.391119', 'name': 'Mallard Fire', 'last_checked': '2018-05-20T21:14:05.732905'}, 'id:5761': {'date_entered': '2018-05-18T15:56:38.113888', 'name': 'Mallard Fire', 'last_checked': '2018-05-20T21:14:06.392411'}, 'id:5775': {'date_entered': '2018-05-18T15:58:57.676281', 'name': 'Mallard Fire', 'last_checked': '2018-05-20T21:14:08.000775'}, 'id:5791': {'date_entered': '2018-05-18T15:55:39.937570', 'name': 'Mallard Fire', 'last_checked': '2018-05-20T21:14:05.911137'}, 'id:5790': {'date_entered': '2018-05-10', 'name': 'Mallard Fire', 'last_checked': '2018-05-20T21:14:05.133582'}, 'id:5795': {'date_entered': '2018-05-10', 'name': 'Pinery Fire', 'last_checked': '2018-05-20T21:14:04.634090'}, 'id:5794': {'date_entered': '2018-05-18T15:55:28.580390', 'name': 'Mallard Fire', 'last_checked': '2018-05-20T21:14:05.330939'}, 'id:5773': {'date_entered': '2018-05-18T15:55:43.941348', 'name': 'Mallard Fire', 'last_checked': '2018-05-20T21:14:06.157210'}, 'id:5753': {'date_entered': '2018-05-18T16:00:05.985220', 'name': 'Mallard Fire', 'last_checked': '2018-05-20T21:14:08.821396'}, 'id:5750': {'date_entered': '2018-05-18T15:54:29.937619', 'name': 'Mallard Fire', 'last_checked': '2018-05-20T21:14:04.143662'}, 'id:5713': {'date_entered': '2018-05-18T16:00:11.558670', 'name': 'Mallard Fire', 'last_checked': '2018-05-19T22:40:12.377000'}, 'id:5714': {'date_entered': '2018-05-18T16:00:19.487591', 'name': 'Mallard Fire', 'last_checked': '2018-05-19T22:40:12.561879'}, 'id:5385': {'date_entered': '2018-05-18T16:00:55.042189', 'name': 'Mallard Fire', 'last_checked': '2018-05-19T22:40:17.600641'}, 'id:5783': {'date_entered': '2018-05-18T15:56:57.780130', 'name': 'Mallard Fire', 'last_checked': '2018-05-20T21:14:06.850022'}, 'id:5784': {'date_entered': '2018-05-18T15:57:55.065196', 'name': 'Mallard Fire', 'last_checked': '2018-05-20T21:14:07.445836'}, 'id:5785': {'date_entered': '2018-05-18T15:57:09.962711', 'name': 'Mallard Fire', 'last_checked': '2018-05-20T21:14:07.064961'}, 'id:5788': {'date_entered': '2018-05-18T15:57:33.710352', 'name': 'Mallard Fire', 'last_checked': '2018-05-20T21:14:07.271309'}, 'id:5789': {'date_entered': '2018-05-18T15:54:53.047325', 'name': 'Mallard Fire', 'last_checked': '2018-05-20T21:14:04.906605'}, 'id:5806': {'date_entered': '2018-05-19T22:29:29.182512', 'name': 'Mallard Fire', 'last_checked': '2018-05-20T21:14:04.401073'}}\n",
      "[33.09, -79.69]\n",
      "2018-05-19T22:40:12.377000\n",
      "The number of total images found is 0.\n",
      "{'id:5744': {'date_entered': '2018-05-18T15:56:49.467602', 'name': 'Mallard Fire', 'last_checked': '2018-05-20T21:14:06.670746'}, 'id:5746': {'date_entered': '2018-05-18T15:59:02.780882', 'name': 'Mallard Fire', 'last_checked': '2018-05-20T21:14:08.203570'}, 'id:5747': {'date_entered': '2018-05-18T16:00:00.427086', 'name': 'Mallard Fire', 'last_checked': '2018-05-20T21:14:08.625881'}, 'id:5740': {'date_entered': '2018-05-18T15:58:31.553089', 'name': 'Mallard Fire', 'last_checked': '2018-05-20T21:14:07.667149'}, 'id:5741': {'date_entered': '2018-05-18T16:00:00.212577', 'name': 'Mallard Fire', 'last_checked': '2018-05-20T21:14:05.554327'}, 'id:5742': {'date_entered': '2018-05-18T15:59:34.533723', 'name': 'Mallard Fire', 'last_checked': '2018-05-20T21:14:08.406275'}, 'id:5763': {'date_entered': '2018-05-18T15:56:19.391119', 'name': 'Mallard Fire', 'last_checked': '2018-05-20T21:14:05.732905'}, 'id:5761': {'date_entered': '2018-05-18T15:56:38.113888', 'name': 'Mallard Fire', 'last_checked': '2018-05-20T21:14:06.392411'}, 'id:5775': {'date_entered': '2018-05-18T15:58:57.676281', 'name': 'Mallard Fire', 'last_checked': '2018-05-20T21:14:08.000775'}, 'id:5791': {'date_entered': '2018-05-18T15:55:39.937570', 'name': 'Mallard Fire', 'last_checked': '2018-05-20T21:14:05.911137'}, 'id:5790': {'date_entered': '2018-05-10', 'name': 'Mallard Fire', 'last_checked': '2018-05-20T21:14:05.133582'}, 'id:5795': {'date_entered': '2018-05-10', 'name': 'Pinery Fire', 'last_checked': '2018-05-20T21:14:04.634090'}, 'id:5794': {'date_entered': '2018-05-18T15:55:28.580390', 'name': 'Mallard Fire', 'last_checked': '2018-05-20T21:14:05.330939'}, 'id:5773': {'date_entered': '2018-05-18T15:55:43.941348', 'name': 'Mallard Fire', 'last_checked': '2018-05-20T21:14:06.157210'}, 'id:5753': {'date_entered': '2018-05-18T16:00:05.985220', 'name': 'Mallard Fire', 'last_checked': '2018-05-20T21:14:08.821396'}, 'id:5750': {'date_entered': '2018-05-18T15:54:29.937619', 'name': 'Mallard Fire', 'last_checked': '2018-05-20T21:14:04.143662'}, 'id:5713': {'date_entered': '2018-05-18T16:00:11.558670', 'name': 'Mallard Fire', 'last_checked': '2018-05-20T21:14:09.082393'}, 'id:5714': {'date_entered': '2018-05-18T16:00:19.487591', 'name': 'Mallard Fire', 'last_checked': '2018-05-19T22:40:12.561879'}, 'id:5385': {'date_entered': '2018-05-18T16:00:55.042189', 'name': 'Mallard Fire', 'last_checked': '2018-05-19T22:40:17.600641'}, 'id:5783': {'date_entered': '2018-05-18T15:56:57.780130', 'name': 'Mallard Fire', 'last_checked': '2018-05-20T21:14:06.850022'}, 'id:5784': {'date_entered': '2018-05-18T15:57:55.065196', 'name': 'Mallard Fire', 'last_checked': '2018-05-20T21:14:07.445836'}, 'id:5785': {'date_entered': '2018-05-18T15:57:09.962711', 'name': 'Mallard Fire', 'last_checked': '2018-05-20T21:14:07.064961'}, 'id:5788': {'date_entered': '2018-05-18T15:57:33.710352', 'name': 'Mallard Fire', 'last_checked': '2018-05-20T21:14:07.271309'}, 'id:5789': {'date_entered': '2018-05-18T15:54:53.047325', 'name': 'Mallard Fire', 'last_checked': '2018-05-20T21:14:04.906605'}, 'id:5806': {'date_entered': '2018-05-19T22:29:29.182512', 'name': 'Mallard Fire', 'last_checked': '2018-05-20T21:14:04.401073'}}\n",
      "[33.29, -79.85]\n"
     ]
    },
    {
     "name": "stdout",
     "output_type": "stream",
     "text": [
      "2018-05-19T22:40:12.561879\n",
      "The number of total images found is 0.\n",
      "{'id:5744': {'date_entered': '2018-05-18T15:56:49.467602', 'name': 'Mallard Fire', 'last_checked': '2018-05-20T21:14:06.670746'}, 'id:5746': {'date_entered': '2018-05-18T15:59:02.780882', 'name': 'Mallard Fire', 'last_checked': '2018-05-20T21:14:08.203570'}, 'id:5747': {'date_entered': '2018-05-18T16:00:00.427086', 'name': 'Mallard Fire', 'last_checked': '2018-05-20T21:14:08.625881'}, 'id:5740': {'date_entered': '2018-05-18T15:58:31.553089', 'name': 'Mallard Fire', 'last_checked': '2018-05-20T21:14:07.667149'}, 'id:5741': {'date_entered': '2018-05-18T16:00:00.212577', 'name': 'Mallard Fire', 'last_checked': '2018-05-20T21:14:05.554327'}, 'id:5742': {'date_entered': '2018-05-18T15:59:34.533723', 'name': 'Mallard Fire', 'last_checked': '2018-05-20T21:14:08.406275'}, 'id:5763': {'date_entered': '2018-05-18T15:56:19.391119', 'name': 'Mallard Fire', 'last_checked': '2018-05-20T21:14:05.732905'}, 'id:5761': {'date_entered': '2018-05-18T15:56:38.113888', 'name': 'Mallard Fire', 'last_checked': '2018-05-20T21:14:06.392411'}, 'id:5775': {'date_entered': '2018-05-18T15:58:57.676281', 'name': 'Mallard Fire', 'last_checked': '2018-05-20T21:14:08.000775'}, 'id:5791': {'date_entered': '2018-05-18T15:55:39.937570', 'name': 'Mallard Fire', 'last_checked': '2018-05-20T21:14:05.911137'}, 'id:5790': {'date_entered': '2018-05-10', 'name': 'Mallard Fire', 'last_checked': '2018-05-20T21:14:05.133582'}, 'id:5795': {'date_entered': '2018-05-10', 'name': 'Pinery Fire', 'last_checked': '2018-05-20T21:14:04.634090'}, 'id:5794': {'date_entered': '2018-05-18T15:55:28.580390', 'name': 'Mallard Fire', 'last_checked': '2018-05-20T21:14:05.330939'}, 'id:5773': {'date_entered': '2018-05-18T15:55:43.941348', 'name': 'Mallard Fire', 'last_checked': '2018-05-20T21:14:06.157210'}, 'id:5753': {'date_entered': '2018-05-18T16:00:05.985220', 'name': 'Mallard Fire', 'last_checked': '2018-05-20T21:14:08.821396'}, 'id:5750': {'date_entered': '2018-05-18T15:54:29.937619', 'name': 'Mallard Fire', 'last_checked': '2018-05-20T21:14:04.143662'}, 'id:5713': {'date_entered': '2018-05-18T16:00:11.558670', 'name': 'Mallard Fire', 'last_checked': '2018-05-20T21:14:09.082393'}, 'id:5714': {'date_entered': '2018-05-18T16:00:19.487591', 'name': 'Mallard Fire', 'last_checked': '2018-05-20T21:14:09.333574'}, 'id:5385': {'date_entered': '2018-05-18T16:00:55.042189', 'name': 'Mallard Fire', 'last_checked': '2018-05-19T22:40:17.600641'}, 'id:5783': {'date_entered': '2018-05-18T15:56:57.780130', 'name': 'Mallard Fire', 'last_checked': '2018-05-20T21:14:06.850022'}, 'id:5784': {'date_entered': '2018-05-18T15:57:55.065196', 'name': 'Mallard Fire', 'last_checked': '2018-05-20T21:14:07.445836'}, 'id:5785': {'date_entered': '2018-05-18T15:57:09.962711', 'name': 'Mallard Fire', 'last_checked': '2018-05-20T21:14:07.064961'}, 'id:5788': {'date_entered': '2018-05-18T15:57:33.710352', 'name': 'Mallard Fire', 'last_checked': '2018-05-20T21:14:07.271309'}, 'id:5789': {'date_entered': '2018-05-18T15:54:53.047325', 'name': 'Mallard Fire', 'last_checked': '2018-05-20T21:14:04.906605'}, 'id:5806': {'date_entered': '2018-05-19T22:29:29.182512', 'name': 'Mallard Fire', 'last_checked': '2018-05-20T21:14:04.401073'}}\n",
      "[42.3, -123.95]\n",
      "2018-05-19T22:40:17.600641\n",
      "The number of total images found is 0.\n",
      "Writing pickle file to g cloud\n",
      "('', 'Copying file://temp/fires.pickle [Content-Type=application/octet-stream]...\\n/ [0 files][    0.0 B/  3.2 KiB]                                                \\rAccessDeniedException: 403 karla@descarteslabs.com does not have storage.objects.delete access to dl-fires/imagery/fires.pickle.\\n')\n",
      "Deleting local temp files, final step.\n"
     ]
    }
   ],
   "source": [
    "run_script()"
   ]
  }
 ],
 "metadata": {
  "kernelspec": {
   "display_name": "dl-env",
   "language": "python",
   "name": "dl-env"
  },
  "language_info": {
   "codemirror_mode": {
    "name": "ipython",
    "version": 2
   },
   "file_extension": ".py",
   "mimetype": "text/x-python",
   "name": "python",
   "nbconvert_exporter": "python",
   "pygments_lexer": "ipython2",
   "version": "2.7.10"
  }
 },
 "nbformat": 4,
 "nbformat_minor": 2
}
