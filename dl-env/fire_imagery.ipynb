{
 "cells": [
  {
   "cell_type": "code",
   "execution_count": 7,
   "metadata": {},
   "outputs": [],
   "source": [
    "import descarteslabs as dl\n",
    "from datetime import datetime\n",
    "# from shapely.geometry import Point\n",
    "# import osgeo\n",
    "# from osgeo import ogr, osr\n",
    "from subprocess import check_output\n",
    "import subprocess \n",
    "from sys import argv"
   ]
  },
  {
   "cell_type": "markdown",
   "metadata": {},
   "source": [
    "## Open File"
   ]
  },
  {
   "cell_type": "code",
   "execution_count": 17,
   "metadata": {},
   "outputs": [],
   "source": [
    "process = subprocess.call('mkdir temp', shell=True)"
   ]
  },
  {
   "cell_type": "code",
   "execution_count": 6,
   "metadata": {},
   "outputs": [
    {
     "name": "stdout",
     "output_type": "stream",
     "text": [
      "('', 'Copying gs://dl-fires/inciweb-data/conus_fires_20180517-18UTC.txt...\\n/ [0 files][    0.0 B/  1.0 KiB]                                                \\r/ [1 files][  1.0 KiB/  1.0 KiB]                                                \\r\\nOperation completed over 1 objects/1.0 KiB.                                      \\n')\n"
     ]
    }
   ],
   "source": [
    "args = ['gsutil cp gs://dl-fires/inciweb-data/conus_fires_20180517-18UTC.txt temp/']\n",
    "p = subprocess.Popen(args, shell=True, stdout=subprocess.PIPE, stderr=subprocess.PIPE)\n",
    "print p.communicate()"
   ]
  },
  {
   "cell_type": "code",
   "execution_count": 24,
   "metadata": {},
   "outputs": [],
   "source": [
    "def iterate_over_file(string):\n",
    "    counter = 0\n",
    "    for line in iter(string.splitlines()):\n",
    "        if counter == 0:\n",
    "            counter +=1\n",
    "        else: \n",
    "            initiate_fire_instance(line)\n",
    "            counter +=1"
   ]
  },
  {
   "cell_type": "code",
   "execution_count": 46,
   "metadata": {},
   "outputs": [],
   "source": [
    "# This could be refactored to include a class \n",
    "def initiate_fire_instance(fire_string): \n",
    "    fire_arr = fire_string.split()\n",
    "    name_list = fire_arr[:-4]\n",
    "    # print(' '.join([str(x) for x in name_list]))\n",
    "    name = ' '.join([str(x) for x in name_list])\n",
    "    fire_id = fire_arr[-4]\n",
    "    lat = fire_arr[-3]\n",
    "    lon = fire_arr[-2]\n",
    "    coords=[lat,lon]\n",
    "    acres = fire_arr[-1]\n",
    "#     print(\"The {} has burned for {} acres, is at {} and has the id {}\".format(name,acres,coords,fire_id))"
   ]
  },
  {
   "cell_type": "code",
   "execution_count": 47,
   "metadata": {},
   "outputs": [
    {
     "name": "stdout",
     "output_type": "stream",
     "text": [
      "The Mallard Fire has burned for nan acres, is at ['34.81', '-101.31'] and has the id id:5790\n",
      "The Pinery Fire has burned for 1200.00 acres, is at ['31.98', '-109.37'] and has the id id:5795\n",
      "The AVIAN COMPLEX has burned for nan acres, is at ['25.90', '-81.31'] and has the id id:5750\n",
      "The 2018 Shasta-Trinity Lightning Fires has burned for nan acres, is at ['40.90', '-123.16'] and has the id id:5789\n",
      "The Woods Fire has burned for nan acres, is at ['34.34', '-110.97'] and has the id id:5794\n",
      "The Viewpoint Fire has burned for 5600.00 acres, is at ['34.69', '-112.37'] and has the id id:5791\n",
      "The McDannald Fire has burned for nan acres, is at ['30.55', '-104.24'] and has the id id:5773\n",
      "The Tinder Fire has burned for nan acres, is at ['34.56', '-111.16'] and has the id id:5763\n",
      "The Grape Fire has burned for 244.00 acres, is at ['40.71', '-123.55'] and has the id id:5761\n",
      "The Gate Mountain Fire has burned for 1040.00 acres, is at ['38.62', '-79.01'] and has the id id:5744\n",
      "The Tye River Fire has burned for 1716.00 acres, is at ['37.89', '-79.18'] and has the id id:5783\n",
      "The Flamingo Fire has burned for nan acres, is at ['26.25', '-81.28'] and has the id id:5785\n",
      "The Buzzard Fire has burned for nan acres, is at ['25.98', '-80.99'] and has the id id:5788\n",
      "The Curlew Fire has burned for nan acres, is at ['25.73', '-81.04'] and has the id id:5784\n",
      "The Rattlesnake Fire has burned for nan acres, is at ['33.66', '-109.51'] and has the id id:5740\n",
      "The Catawba Valley Fire has burned for 325.00 acres, is at ['37.38', '-80.06'] and has the id id:5775\n",
      "The Rhea Fire has burned for 286196.00 acres, is at ['35.85', '-99.21'] and has the id id:5746\n",
      "The Diener Canyon Fire has burned for nan acres, is at ['35.19', '-108.14'] and has the id id:5742\n",
      "The Bluewater Fire has burned for nan acres, is at ['35.25', '-108.13'] and has the id id:5741\n",
      "The 34 Complex Fire has burned for 53000.00 acres, is at ['36.52', '-99.40'] and has the id id:5747\n",
      "The MM 117 has burned for nan acres, is at ['38.53', '-104.67'] and has the id id:5753\n",
      "The Cumbee Fire has burned for 1638.00 acres, is at ['33.09', '-79.69'] and has the id id:5713\n",
      "The Greenwood Fire has burned for nan acres, is at ['33.29', '-79.85'] and has the id id:5714\n",
      "The Chetco Bar Fire has burned for nan acres, is at ['42.30', '-123.95'] and has the id id:5385\n"
     ]
    }
   ],
   "source": [
    "txt = open('temp/conus_fires_20180517-18UTC.txt')\n",
    "file_string_contents = txt.read()\n",
    "iterate_over_file(file_string_contents)"
   ]
  },
  {
   "cell_type": "markdown",
   "metadata": {},
   "source": [
    "## Read Fire Directories \n",
    "Create a new one for the output if it does not exist "
   ]
  },
  {
   "cell_type": "code",
   "execution_count": 70,
   "metadata": {},
   "outputs": [
    {
     "data": {
      "text/plain": [
       "['test_fire', 'test_fire_2']"
      ]
     },
     "execution_count": 70,
     "metadata": {},
     "output_type": "execute_result"
    }
   ],
   "source": [
    "args = ['gsutil ls gs://dl-fires/imagery']\n",
    "p = subprocess.Popen(args, shell=True, stdout=subprocess.PIPE, stderr=subprocess.PIPE)\n",
    "buckets= p.communicate()[0]\n",
    "buckets = buckets.split('\\ngs://dl-fires/imagery/')\n",
    "buckets = [bucket.replace('/', '') for bucket in buckets]\n",
    "buckets = [bucket.replace('\\n', '') for bucket in buckets]\n",
    "buckets = buckets[1:]\n",
    "buckets"
   ]
  },
  {
   "cell_type": "markdown",
   "metadata": {},
   "source": [
    "## Find imagery"
   ]
  },
  {
   "cell_type": "code",
   "execution_count": 9,
   "metadata": {},
   "outputs": [],
   "source": [
    "def make_tile(coords): \n",
    "    # to get the tile centered around your lat/lon, give it a tilesize of 1 and a pad of the half-width of your desired image (in meters)\n",
    "    print coords[0]\n",
    "    print coords[1]\n",
    "    bounding_box = dl.raster.dltile_from_latlon(\n",
    "        lat=coords[0],\n",
    "        lon=coords[1], \n",
    "        resolution=30, \n",
    "        tilesize=2, \n",
    "        pad=600)\n",
    "\n",
    "    return bounding_box\n",
    "    "
   ]
  },
  {
   "cell_type": "code",
   "execution_count": 3,
   "metadata": {},
   "outputs": [],
   "source": [
    "def search_products(date, geometry):\n",
    "    print(date)\n",
    "    from pprint import pprint \n",
    "    pprint(geometry['geometry']['coordinates'])\n",
    "    images = dl.metadata.search(\n",
    "        ['landsat:LC08:01:RT:TOAR', 'sentinel-2:L1C'],\n",
    "        geom= geometry, \n",
    "        start_datetime=date, \n",
    "        end_datetime= datetime.today().isoformat()\n",
    "        )\n",
    "    pprint(\"The number of total images found is {}.\".format(len(images['features'])))\n",
    "    return [image['id'] for image in images['features']]"
   ]
  },
  {
   "cell_type": "code",
   "execution_count": 7,
   "metadata": {},
   "outputs": [],
   "source": [
    "def download_imagery(ids, geometry):\n",
    "    for image_id in ids: \n",
    "        print image_id\n",
    "        dl.raster.raster(\n",
    "                        image_id,\n",
    "                        bands=['swir2', 'swir1', 'nir', 'alpha'],\n",
    "                        scales=[[0,4000], [0, 4000], [0, 4000], None],\n",
    "                        data_type='Byte',\n",
    "                        cutline=geometry,\n",
    "                        save= True,\n",
    "                        outfile_basename=image_id)"
   ]
  },
  {
   "cell_type": "code",
   "execution_count": 5,
   "metadata": {},
   "outputs": [],
   "source": [
    "def find_imagery(fire_name, date, coords, footprint=None):\n",
    "    # Where name is a str, coords is an array of [lat,long], and footprint is an optional geometry\n",
    "#     if footprint:\n",
    "#         image_ids = search_products(date,footprint)\n",
    "#         download_imagery(image_ids, footprint)\n",
    "#     else:\n",
    "    dl_tile = make_tile(coords)\n",
    "    image_ids = search_products(date, dl_tile)\n",
    "    download_imagery(image_ids, dl_tile)"
   ]
  },
  {
   "cell_type": "markdown",
   "metadata": {},
   "source": [
    "Driver Code"
   ]
  },
  {
   "cell_type": "code",
   "execution_count": 8,
   "metadata": {},
   "outputs": [
    {
     "name": "stdout",
     "output_type": "stream",
     "text": [
      "36.87\n",
      "-120.24\n",
      "2018-05-10\n",
      "[\n",
      "  [\n",
      "    [-120.32835512645352, 36.80264609569112],\n",
      "    [-120.15637285166773, 36.798655452355234],\n",
      "    [-120.1512387673139, 36.936948905000946],\n",
      "    [-120.32353061867214, 36.940959542556456],\n",
      "    ...\n",
      "  ]\n",
      "]\n",
      "'The number of total images found is 2.'\n",
      "sentinel-2:L1C:2018-05-12_10SGG_99_S2A_v1\n",
      "sentinel-2:L1C:2018-05-12_11SKA_99_S2A_v1\n"
     ]
    }
   ],
   "source": [
    "find_imagery('Test Fire', '2018-05-10',[36.87, -120.24])         \n",
    "          "
   ]
  }
 ],
 "metadata": {
  "kernelspec": {
   "display_name": "dl-env",
   "language": "python",
   "name": "dl-env"
  },
  "language_info": {
   "codemirror_mode": {
    "name": "ipython",
    "version": 2
   },
   "file_extension": ".py",
   "mimetype": "text/x-python",
   "name": "python",
   "nbconvert_exporter": "python",
   "pygments_lexer": "ipython2",
   "version": "2.7.10"
  }
 },
 "nbformat": 4,
 "nbformat_minor": 2
}
