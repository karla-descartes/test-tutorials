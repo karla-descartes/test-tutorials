{
 "cells": [
  {
   "cell_type": "markdown",
   "metadata": {},
   "source": [
    "# Getting Started on the Descartes Labs Platform"
   ]
  },
  {
   "cell_type": "markdown",
   "metadata": {},
   "source": [
    "The Descartes Labs platform offers the ability to search terrabytes of satellite imagery, perform analysis in a python development environment, and offers the compute capacity to scale analytics to large regions. This quickstart tutorial demonstrates the basic functionality of our core APIs. if searching for imagery over a geometry that is free of clouds using the ```Places``` and ```Metadata``` APIs. We then use the ```Raster``` API to access the data as a ```numpy.array``` and plot the data using ```Matplotlib```."
   ]
  },
  {
   "cell_type": "markdown",
   "metadata": {},
   "source": [
    "First, we import a few standard libraries that make life easier:"
   ]
  },
  {
   "cell_type": "code",
   "execution_count": null,
   "metadata": {},
   "outputs": [],
   "source": [
    "# import os\n",
    "import warnings\n",
    "from pprint import pprint"
   ]
  },
  {
   "cell_type": "markdown",
   "metadata": {},
   "source": [
    "Next, we import the Descartes Labs platform. If you haven't yet, visit the documentation to learn how to install and authenticate our library. "
   ]
  },
  {
   "cell_type": "code",
   "execution_count": null,
   "metadata": {},
   "outputs": [],
   "source": [
    "import descarteslabs as dl"
   ]
  },
  {
   "cell_type": "markdown",
   "metadata": {},
   "source": [
    "## Find our Area of Interest: El Dorado County"
   ]
  },
  {
   "cell_type": "markdown",
   "metadata": {},
   "source": [
    "Let's use the ```Places``` API to locate El Dorado County, California, home to Eldorado National Forest. Eldorado is nestled between Lake Tahoe and Yosemite National Park in the Sierra Nevada Mountain Range. It experienced a devastating fire in 2014, which will be fun to view using different band combinations on our platform. "
   ]
  },
  {
   "cell_type": "code",
   "execution_count": null,
   "metadata": {},
   "outputs": [],
   "source": [
    "# Find potential matches\n",
    "matches = dl.places.find('california_el-dorado')\n",
    "print(len(matches))"
   ]
  },
  {
   "cell_type": "markdown",
   "metadata": {},
   "source": [
    "The first element often is right if you've searched correctly. To access a GeoJSON Geometry object of that place, we call the `Places.shape` method, in this case accessing a low-resolution version of this particular shape."
   ]
  },
  {
   "cell_type": "code",
   "execution_count": null,
   "metadata": {},
   "outputs": [],
   "source": [
    "pprint(matches[0])\n",
    "shape = dl.places.shape(matches[0]['slug'], geom='low')\n",
    "pprint(shape)"
   ]
  },
  {
   "cell_type": "markdown",
   "metadata": {},
   "source": [
    "## Search for the latest \"Cloud Free\" Landsat image we can find "
   ]
  },
  {
   "cell_type": "markdown",
   "metadata": {},
   "source": [
    "Here we’ll use the ```Metadata``` API to search for available imagery over a spatio-temporal extent. In this case we’ll specify that we’re interested in our aoi using its slug for Months of Feburary and March, 2018."
   ]
  },
  {
   "cell_type": "markdown",
   "metadata": {},
   "source": [
    "Using a different Metadata API call ```products``` we can inspect the available product can list. Here we select the Landsat 8 top of atmospheric reflectence ```product_id```. We will pass this ```id``` into a call to ```metadata.search()```, with the additional parameters specifying our geojson for El Dorado defined above, a time period spanning the last few months, and filtering for scenes with less than 30% cloud cover using the ```cloud_fraction``` parameter."
   ]
  },
  {
   "cell_type": "code",
   "execution_count": null,
   "metadata": {},
   "outputs": [],
   "source": [
    "import json\n",
    "feature_collection = dl.metadata.search(products='landsat:LC08:01:T1:TOAR', \n",
    "                                        start_time='2018-02-01',\n",
    "                                        end_time='2018-04-02', \n",
    "                                        cloud_fraction=.25,\n",
    "                                        place=matches[0]['slug'])\n",
    "\n",
    "print (len(feature_collection['features']))"
   ]
  },
  {
   "cell_type": "markdown",
   "metadata": {},
   "source": [
    "The ```id``` associated with each feature is a unique identifier into our imagery database. Let's composite the three returned images to ensure we have complete coverage of our geometry:"
   ]
  },
  {
   "cell_type": "code",
   "execution_count": null,
   "metadata": {},
   "outputs": [],
   "source": [
    "ids = [f['id'] for f in feature_collection['features']]\n",
    "print(ids)"
   ]
  },
  {
   "cell_type": "markdown",
   "metadata": {},
   "source": [
    "The last ```Metadata``` call we will make is to inspect the bands associated with our product. This will come in handy for visualization and for exporting the image from our environment. "
   ]
  },
  {
   "cell_type": "markdown",
   "metadata": {},
   "source": [
    "## Visualize the image\n",
    "Next, we will use the ```Raster``` API to visualize the scene. To do this with the library ```Matplotlib```, we gather the data into an ```Numpy``` array. The code below makes a call to ```raster.ndarray``` passing all the scene ```id```s, true color bands, scale the incoming data with range [0, 10000] down to [0, 4000], and choose a 60m resolution, and apply a cutline of El Dorado County. Wildly powerful for analysis, but can also be used for plotting."
   ]
  },
  {
   "cell_type": "code",
   "execution_count": null,
   "metadata": {},
   "outputs": [],
   "source": [
    "# Once we have an image ID or IDs, we can pass them to our Raster API to go and fetch their data. \n",
    "arr, meta = dl.raster.ndarray(\n",
    "    ids,\n",
    "    bands=['red', 'green', 'blue', 'alpha'],\n",
    "    scales=[[0,4000], [0, 4000], [0, 4000], None],\n",
    "    data_type='Byte',\n",
    "    resolution=60,\n",
    "    cutline=shape['geometry']\n",
    ")\n",
    "\n",
    "# Note: A value of 1 in the alpha channel signifies where there is valid data.\n",
    "# We use this throughout the majority of our imagery as a standard way of specifying\n",
    "# valid or nodata regions. This is particularly helpful if a value of 0 in a particular\n",
    "# band has meaning, rather than specifying a lack of data."
   ]
  },
  {
   "cell_type": "code",
   "execution_count": null,
   "metadata": {},
   "outputs": [],
   "source": [
    "# We'll use matplotlib to make a quick plot of the image.\n",
    "import matplotlib.pyplot as plt\n",
    "%matplotlib inline"
   ]
  },
  {
   "cell_type": "code",
   "execution_count": null,
   "metadata": {},
   "outputs": [],
   "source": [
    "plt.figure(figsize=[16,16])\n",
    "plt.imshow(arr)"
   ]
  },
  {
   "cell_type": "markdown",
   "metadata": {},
   "source": [
    "Alternatively, once you have the data in a ```Numpy``` array, you can perform rapid analysis on the composited data. This includes doing things like computing burn indicies to identify the extent of fires, conducting land change analysis, or performing land cover classifications."
   ]
  },
  {
   "cell_type": "code",
   "execution_count": null,
   "metadata": {},
   "outputs": [],
   "source": [
    "arr.shape\n",
    "type(arr)\n",
    "# import numpy as np\n",
    "np.unique(arr)"
   ]
  },
  {
   "cell_type": "markdown",
   "metadata": {},
   "source": [
    "## Download the image \n",
    "The ```Raster``` API also supports the ability to download data as an image. The parameters are similar to the call to ```ndarray```, with the additional parameters ```output_format```, ```save```, and ```outfile_basename```. This option is not necessary in most workflows, as the Descartes Labs platform allows for rapid and efficient analysis in this environment, however, it will serve to demonstrate how to ingest user-owned and created imagery into our platform.\n"
   ]
  },
  {
   "cell_type": "markdown",
   "metadata": {},
   "source": [
    "We will include the near infrared and both short wave infrared bands in our export. We will want to access that in the platform to view unique features."
   ]
  },
  {
   "cell_type": "code",
   "execution_count": null,
   "metadata": {},
   "outputs": [],
   "source": [
    "export_bands = ['red', 'green', 'blue', 'alpha']"
   ]
  },
  {
   "cell_type": "code",
   "execution_count": null,
   "metadata": {},
   "outputs": [],
   "source": [
    "arr, meta = dl.raster.raster(\n",
    "    ids,\n",
    "    bands= export_bands,\n",
    "    scales=[[0,4000], [0,4000], [0,4000], None],\n",
    "    output_format='GTiff',\n",
    "    data_type='Byte',\n",
    "    resolution=60,\n",
    "    cutline=shape['geometry'],\n",
    "    save=True,\n",
    "    outfile_basename=\"eldorado\"\n",
    ")"
   ]
  },
  {
   "cell_type": "markdown",
   "metadata": {},
   "source": [
    "## Upload an image to the Descartes Labs platform\n",
    "The ```Catalog``` API allows users to ingest their raster datasets into the platform, giving you access to our massive analytical and computer power for use on your data. It also makes it easy for you to use your own data along side a cannon of publically available imagery and dervied projects. This is an alpha feature, so you should make sure you've followed the instructions for accessing these classes. "
   ]
  },
  {
   "cell_type": "markdown",
   "metadata": {},
   "source": [
    "First, we have to import the ```Catalog``` API."
   ]
  },
  {
   "cell_type": "code",
   "execution_count": null,
   "metadata": {},
   "outputs": [],
   "source": [
    "from descarteslabs.client.services import Catalog"
   ]
  },
  {
   "cell_type": "markdown",
   "metadata": {},
   "source": [
    "The first step to getting your personal data into the Descartes Labs platform is to add an entry into our product database. The first parameter is a string indicating the ```product_id```. The only other two required parameters are a product ```title``` and ```description```, both strings. There are many more optional parameters that can be passed in documented in the API reference. "
   ]
  },
  {
   "cell_type": "code",
   "execution_count": null,
   "metadata": {},
   "outputs": [],
   "source": [
    "Catalog().add_product('eldo byte', \n",
    "                      title='Eldo Composite', \n",
    "                      description='Demo for platform users. This is a composited and clipped Landsat raster of El Dorado County in California. The image contains five bands for visualization and analytical purposes. It was exported from the Descartes Labs platform.'\n",
    "                     )"
   ]
  },
  {
   "cell_type": "markdown",
   "metadata": {},
   "source": [
    "It returns an object containing the most important piece of information, your new product's ```id```. This will be used in the next to calls to fully ingest your data into our system. "
   ]
  },
  {
   "cell_type": "code",
   "execution_count": null,
   "metadata": {},
   "outputs": [],
   "source": [
    "product_id = '7294028cc01114d89a473cf055d29dc5cd5ffe88:eldo byte'"
   ]
  },
  {
   "cell_type": "markdown",
   "metadata": {},
   "source": [
    "The next step is to add band information to your product's entry. This will give you full access to your data in the Descartes Labs Viewer, Catalog, and in the platform. The code below iterates through the list of bands we exported, adding each individually. The first parameter for each band is the ```id``` of the product we just created. The second is the band's ```name```. There are a range of required and non-required parameters that can be added documented in the API reference."
   ]
  },
  {
   "cell_type": "code",
   "execution_count": null,
   "metadata": {},
   "outputs": [],
   "source": [
    "for i, band in enumerate(export_bands):\n",
    "       \n",
    "        band_id = Catalog().add_band(\n",
    "            product_id, # id of the product we just created.\n",
    "            '{}'.format(band),\n",
    "            jpx_layer=0,\n",
    "            srcfile=0,\n",
    "            srcband=i+1,  # src band is always a 1-based index (counting starts at 1)\n",
    "            nbits=16,\n",
    "            dtype='UInt16',\n",
    "            nodata=0,\n",
    "            data_range=[0, 1000],\n",
    "            type='spectral',\n",
    "             default_range=(0,4000),\n",
    "        )['data']['id']"
   ]
  },
  {
   "cell_type": "markdown",
   "metadata": {},
   "source": [
    "The final method we need to ingest a dataset into the Descartes Labs platform is ```upload_image```. We pass in the image's location on file, the ```product_id```, now associated with the appropriate metadata and band information, and the aquisition date (this is a rough estimate, given we are using a composite spanning multiple dates). Again, there are more parameters available that can be defined at this time referenced in the API documentation."
   ]
  },
  {
   "cell_type": "code",
   "execution_count": null,
   "metadata": {},
   "outputs": [],
   "source": [
    "for i, band in enumerate(export_bands):\n",
    "       \n",
    "        band_id = Catalog().add_band(\n",
    "            product_id, # id of the product we just created.\n",
    "            '{}'.format(band),\n",
    "            jpx_layer=0,\n",
    "            srcfile=0,\n",
    "            srcband=i+1,  # src band is always a 1-based index (counting starts at 1)\n",
    "            nbits=16,\n",
    "            dtype='UInt16',\n",
    "            nodata=0,\n",
    "            data_range=[0, 255],\n",
    "            type='spectral',\n",
    "             default_range=(0,4000),\n",
    "        )['data']['id']"
   ]
  },
  {
   "cell_type": "code",
   "execution_count": null,
   "metadata": {
    "scrolled": true
   },
   "outputs": [],
   "source": [
    "image_on_disc = '/Users/karlaking/descarteslabs-code/test-tutorials/eldorado.tif'\n",
    "acquired_date = '2018-03-15'\n",
    "\n",
    "Catalog().upload_image(image_on_disc,\n",
    "                       product_id,  \n",
    "                       acquired=acquired_date)"
   ]
  }
 ],
 "metadata": {
  "kernelspec": {
   "display_name": "Python 2",
   "language": "python",
   "name": "python2"
  },
  "language_info": {
   "codemirror_mode": {
    "name": "ipython",
    "version": 2
   },
   "file_extension": ".py",
   "mimetype": "text/x-python",
   "name": "python",
   "nbconvert_exporter": "python",
   "pygments_lexer": "ipython2",
   "version": "2.7.10"
  }
 },
 "nbformat": 4,
 "nbformat_minor": 2
}
