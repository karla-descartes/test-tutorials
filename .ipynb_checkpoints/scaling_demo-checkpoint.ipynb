{
 "cells": [
  {
   "cell_type": "code",
   "execution_count": 17,
   "metadata": {},
   "outputs": [],
   "source": [
    "import os \n",
    "import json\n",
    "import numpy as np\n",
    "import descarteslabs as dl \n",
    "from pprint import pprint"
   ]
  },
  {
   "cell_type": "markdown",
   "metadata": {},
   "source": [
    "## A few functions we want to run over a large area."
   ]
  },
  {
   "cell_type": "code",
   "execution_count": 18,
   "metadata": {},
   "outputs": [],
   "source": [
    "def mask_water(raster):\n",
    "    shape = raster.shape\n",
    "    length = raster.size\n",
    "    \n",
    "    # Reshape the matrix to a vector\n",
    "    x = raster.reshape(length)\n",
    "    \n",
    "    # Slice every 4th element\n",
    "    # This selects all the nir values from the vector \n",
    "    y = x[0::4]\n",
    "       \n",
    "    # Mask the output if less than 60 for NIR \n",
    "    # Create a vector of the same size as the NIR vector with all vals 60 for comparison\n",
    "    sixty = np.ones(len(y))*60\n",
    "    \n",
    "    # Create a vector of boolean values, true when NIR is less than 60     \n",
    "    z = y < sixty\n",
    "       \n",
    "    # Multiply by 4  - this will extend the bool vector by copying the value 4 times in place\n",
    "    a = np.repeat(z, 4)\n",
    "    \n",
    "    # Compare the mask to the original raster vector: Returns the value where where false, and '--' where mask is true\n",
    "    b = np.ma.masked_array(x,a)\n",
    "\n",
    "    # Give masked nums the value of 0 \n",
    "    b = np.ma.filled(b,0)\n",
    "    \n",
    "    # Push the output vector into its original 3D shape\n",
    "    c = b.reshape(shape)\n",
    "    return c"
   ]
  },
  {
   "cell_type": "code",
   "execution_count": 13,
   "metadata": {},
   "outputs": [],
   "source": [
    "def get_land_area(image, area_per_pixel):\n",
    "    # Flatten the rows, columns,and bands into a single array.      \n",
    "    length =image.size\n",
    "    flattened_image = image.reshape(length)\n",
    "    \n",
    "    # Select every fourth element, the fourth being the alpha band \n",
    "    # with a value of 0 for no valid data and 255 for valid data \n",
    "    alpha_values = flattened_image[3::4]\n",
    "    \n",
    "    land_pixels = np.count_nonzero(alpha_values)\n",
    "    print(\"The total land area is {} meters squared.\".format(land_pixels * area_per_pixel))\n",
    "    \n",
    "    return land_pixels * area_per_pixel"
   ]
  },
  {
   "cell_type": "code",
   "execution_count": 19,
   "metadata": {},
   "outputs": [],
   "source": [
    "def run_tiles(tiles):\n",
    "    dates = [['2016-06-01','2016-06-30']]\n",
    "    total_land_pixels = 0\n",
    "    counter = 1\n",
    "    for tile in tiles['features']:\n",
    "        images = dl.metadata.search(\n",
    "                                products=[\"landsat:LC08:PRE:TOAR\"],\n",
    "                                start_time=date[0],\n",
    "                                end_time=date[1],\n",
    "                                geom=json.dumps(tile['geometry']),\n",
    "                                cloud_fraction=0.2,\n",
    "                                limit = 1000\n",
    "                                )\n",
    "\n",
    "        print('Tile #' + str(counter) + '. Number of scenes for this tile: ' + str(len(images['features'])))\n",
    "        counter += 1\n",
    "        ids = []\n",
    "        for image in images['features']:\n",
    "            ids.append(image['id'])\n",
    "\n",
    "        arr, meta = dl.raster.ndarray(\n",
    "            ids,\n",
    "            bands=['nir', 'swir1', 'red', 'alpha'],\n",
    "            scales=[[0,6000], [0, 6000], [0, 6000], None],\n",
    "            data_type='Byte',\n",
    "            srs = tile['properties']['cs_code'],\n",
    "            resolution = tile['properties']['resolution'],\n",
    "            bounds = tile['properties']['outputBounds'],\n",
    "            cutline = new_york['geometry'])\n",
    "\n",
    "        arr = arr[16:-16, 16:-16]\n",
    "\n",
    "        arr = mask_water(arr)\n",
    "        total_land_pixels += get_land_area(arr,60)\n",
    "\n",
    "    print('total land pixels: ' + str(total_land_pixels))\n",
    "    print('square meters: ' + str(total_land_pixels * 3600))\n",
    "    "
   ]
  },
  {
   "cell_type": "markdown",
   "metadata": {},
   "source": [
    "## So, you want to apply those predefined python functions to a non-trival sized area?\n",
    "Enter ***DL Tiles*** and ****DL Tasks***. "
   ]
  },
  {
   "cell_type": "markdown",
   "metadata": {},
   "source": [
    "We begin by identifying a geometry of interest via our ```Places``` API. The output is a feature collection of geometries."
   ]
  },
  {
   "cell_type": "code",
   "execution_count": 14,
   "metadata": {},
   "outputs": [],
   "source": [
    "new_york = dl.places.shape(\"north-america_united-states_new-york\")"
   ]
  },
  {
   "cell_type": "markdown",
   "metadata": {},
   "source": [
    "## DL Tiles\n",
    "Given the large area of interest, it is a good idea to break the region up into smaller, more managable parts. This is where ```DL Tiles``` come in handy. Using the ```DL Tile``` functionality, we can break an area up given ```Places``` API endpoint, a geojson, or a latitude and longitude. "
   ]
  },
  {
   "cell_type": "code",
   "execution_count": 16,
   "metadata": {},
   "outputs": [
    {
     "name": "stdout",
     "output_type": "stream",
     "text": [
      "{\n",
      "  u'geometry': {\n",
      "    u'coordinates': [\n",
      "      [\n",
      "        [-81.01142542548452, 41.06164192563925],\n",
      "        [-79.52635307127213, 41.052219545292296],\n",
      "        [-79.50054542369698, 42.1759483420073],\n",
      "        [-81.01162560699078, 42.18574788490893],\n",
      "        ...\n",
      "      ]\n",
      "    ],\n",
      "    u'type': u'Polygon'\n",
      "  },\n",
      "  u'properties': {\n",
      "    u'cs_code': u'EPSG:32617',\n",
      "    u'key': u'2048:16:60.0:17:0:37',\n",
      "    u'outputBounds': [499040.0, 4545600.0, 623840.0, 4670400.0],\n",
      "    u'pad': 16,\n",
      "    u'resolution': 60.0,\n",
      "    u'ti': 0,\n",
      "    u'tilesize': 2048,\n",
      "    u'tj': 37,\n",
      "    u'zone': 17\n",
      "  },\n",
      "  u'type': u'Feature'\n",
      "}\n",
      "'Total number of tiles for New York: 32'\n"
     ]
    }
   ],
   "source": [
    "tiles = dl.raster.dltiles_from_shape(\n",
    "    resolution= 60.0, \n",
    "    tilesize=2048, \n",
    "    pad=16, \n",
    "    shape=new_york)\n",
    "pprint(tiles['features'][0])\n",
    "pprint(\"Total number of tiles for New York: \" + str(len(tiles['features'])))"
   ]
  },
  {
   "cell_type": "code",
   "execution_count": null,
   "metadata": {},
   "outputs": [],
   "source": []
  }
 ],
 "metadata": {
  "kernelspec": {
   "display_name": "Python 2",
   "language": "python",
   "name": "python2"
  },
  "language_info": {
   "codemirror_mode": {
    "name": "ipython",
    "version": 2
   },
   "file_extension": ".py",
   "mimetype": "text/x-python",
   "name": "python",
   "nbconvert_exporter": "python",
   "pygments_lexer": "ipython2",
   "version": "2.7.10"
  }
 },
 "nbformat": 4,
 "nbformat_minor": 2
}
