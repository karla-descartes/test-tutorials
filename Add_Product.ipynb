{
 "cells": [
  {
   "cell_type": "markdown",
   "metadata": {},
   "source": [
    "## Upload an image to the Descartes Labs platform\n",
    "The ```Catalog``` API allows users to ingest their raster datasets into the platform, giving you access to our massive analytical and computer power for use on your data. It also makes it easy for you to use your own data along side a cannon of publically available imagery and dervied projects. This is an alpha feature, so you should make sure you've followed the instructions for accessing these classes. "
   ]
  },
  {
   "cell_type": "markdown",
   "metadata": {},
   "source": [
    "First, we have to import the ```Catalog``` API."
   ]
  },
  {
   "cell_type": "code",
   "execution_count": 21,
   "metadata": {},
   "outputs": [],
   "source": [
    "import descarteslabs as dl\n",
    "from descarteslabs.client.services import Catalog"
   ]
  },
  {
   "cell_type": "markdown",
   "metadata": {},
   "source": [
    "The first step to getting your personal data into the Descartes Labs platform is to add an entry into our product database. The first parameter is a string indicating the ```product_id```. The only other two required parameters are a product ```title``` and ```description```, both strings. There are many more optional parameters that can be passed in documented in the API reference. "
   ]
  },
  {
   "cell_type": "markdown",
   "metadata": {},
   "source": [
    "It returns an object containing the most important piece of information, your new product's ```id```. This will be used in the next to calls to fully ingest your data into our system. "
   ]
  },
  {
   "cell_type": "code",
   "execution_count": 23,
   "metadata": {},
   "outputs": [
    {
     "data": {
      "text/plain": [
       "{u'data': {u'attributes': {u'description': u'Demo for platform users. This is a composited and clipped Landsat raster of Taos. The image contains five bands for visualization and analytical purposes. It was exported from the Descartes Labs platform.',\n",
       "   u'read': [],\n",
       "   u'title': u'Taos'},\n",
       "  u'id': u'7294028cc01114d89a473cf055d29dc5cd5ffe88:Taos_Demo',\n",
       "  u'meta': {u'owner': {u'email': None,\n",
       "    u'name': u'Karla King',\n",
       "    u'uuid': u'google-oauth2|101598335967461239621'},\n",
       "   u'owner_type': u'user'},\n",
       "  u'type': u'product'}}"
      ]
     },
     "execution_count": 23,
     "metadata": {},
     "output_type": "execute_result"
    }
   ],
   "source": [
    "Catalog().add_product('Taos_Demo', \n",
    "                      title='Taos', \n",
    "                      description='Demo for platform users. This is a composited and clipped Landsat raster of Taos. The image contains five bands for visualization and analytical purposes. It was exported from the Descartes Labs platform.'\n",
    "                     )"
   ]
  },
  {
   "cell_type": "markdown",
   "metadata": {},
   "source": [
    "It returns an object containing the most important piece of information, your new product's id. This will be used in the next to calls to fully ingest your data into our system"
   ]
  },
  {
   "cell_type": "code",
   "execution_count": 24,
   "metadata": {},
   "outputs": [],
   "source": [
    "product_id = '7294028cc01114d89a473cf055d29dc5cd5ffe88:Taos_Demo'"
   ]
  },
  {
   "cell_type": "markdown",
   "metadata": {},
   "source": [
    "The next step is to add band information to your product's entry. This will give you full access to your data in the Descartes Labs Viewer, Catalog, and in the platform. The code below iterates through the list of bands we exported, adding each individually. The first parameter for each band is the ```id``` of the product we just created. The second is the band's ```name```. There are a range of required and non-required parameters that can be added documented in the API reference."
   ]
  },
  {
   "cell_type": "code",
   "execution_count": 25,
   "metadata": {},
   "outputs": [],
   "source": [
    "export_bands = ['blue','green','red', 'alpha']\n",
    "\n",
    "for i, band in enumerate(export_bands):\n",
    "       \n",
    "        band_id = Catalog().add_band(\n",
    "            product_id, # id of the product we just created.\n",
    "            '{}'.format(band),\n",
    "            jpx_layer=0,\n",
    "            srcfile=0,\n",
    "            srcband=i+1,  # src band is always a 1-based index (counting starts at 1)\n",
    "            nbits=16,\n",
    "            dtype='UInt16',\n",
    "            nodata=0,\n",
    "            data_range=[0, 255],\n",
    "            type='spectral',\n",
    "             default_range=(0,4000),\n",
    "        )['data']['id']"
   ]
  },
  {
   "cell_type": "code",
   "execution_count": 26,
   "metadata": {},
   "outputs": [],
   "source": [
    "image_on_disc = '/Users/karlaking/descarteslabs-code/test-tutorials/taos.tif'\n",
    "acquired_date = '2018-03-15'\n",
    "\n",
    "Catalog().upload_image(image_on_disc,\n",
    "                       product_id,  \n",
    "                       acquired=acquired_date)"
   ]
  }
 ],
 "metadata": {
  "kernelspec": {
   "display_name": "Python 2",
   "language": "python",
   "name": "python2"
  },
  "language_info": {
   "codemirror_mode": {
    "name": "ipython",
    "version": 2
   },
   "file_extension": ".py",
   "mimetype": "text/x-python",
   "name": "python",
   "nbconvert_exporter": "python",
   "pygments_lexer": "ipython2",
   "version": "2.7.10"
  }
 },
 "nbformat": 4,
 "nbformat_minor": 2
}
