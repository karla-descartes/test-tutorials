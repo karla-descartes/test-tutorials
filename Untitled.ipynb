{
 "cells": [
  {
   "cell_type": "code",
   "execution_count": 2,
   "metadata": {},
   "outputs": [],
   "source": [
    "from descarteslabs.client.services import Storage"
   ]
  },
  {
   "cell_type": "code",
   "execution_count": 1,
   "metadata": {},
   "outputs": [],
   "source": [
    "from descarteslabs.client.services.tasks import AsyncTasks, as_completed\n",
    "from descarteslabs.client.services.raster import raster"
   ]
  },
  {
   "cell_type": "code",
   "execution_count": 2,
   "metadata": {},
   "outputs": [
    {
     "name": "stdout",
     "output_type": "stream",
     "text": [
      "hello 5\n",
      "None\n"
     ]
    }
   ],
   "source": [
    "def hello(i):\n",
    "    return \"hello {}\".format(i)\n",
    "\n",
    "at = AsyncTasks()\n",
    "async_func = at.create_function(\n",
    "    hello,\n",
    "    name='hello',\n",
    "    image=\"us.gcr.io/dl-ci-cd/images/tasks/public/geospatial/geospatial-public:latest\",\n",
    ")\n",
    "\n",
    "task = async_func(5)\n",
    "\n",
    "print task.result\n",
    "print task.log\n"
   ]
  },
  {
   "cell_type": "code",
   "execution_count": 1,
   "metadata": {},
   "outputs": [],
   "source": [
    "from descarteslabs.client.services import Catalog"
   ]
  },
  {
   "cell_type": "code",
   "execution_count": 2,
   "metadata": {},
   "outputs": [
    {
     "data": {
      "text/plain": [
       "{u'data': {u'attributes': {u'description': u'My friends farm outside of Yosemite Ntl Park. Capture using a DJI Phantom 3 using DroneDeploy software for flight planning and registration.',\n",
       "   u'read': [],\n",
       "   u'title': u'Wondernut Farm'},\n",
       "  u'id': u'7294028cc01114d89a473cf055d29dc5cd5ffe88:wonder_nut_farm',\n",
       "  u'meta': {u'owner': {u'email': None,\n",
       "    u'name': u'Karla King',\n",
       "    u'uuid': u'google-oauth2|101598335967461239621'},\n",
       "   u'owner_type': u'user'},\n",
       "  u'type': u'product'}}"
      ]
     },
     "execution_count": 2,
     "metadata": {},
     "output_type": "execute_result"
    }
   ],
   "source": [
    "Catalog().add_product('wonder_nut_farm', \n",
    "                      title='Wondernut Farm', \n",
    "                      description='My friends farm outside of Yosemite Ntl Park. Capture using a DJI Phantom 3 using DroneDeploy software for flight planning and registration.'\n",
    "                     )"
   ]
  },
  {
   "cell_type": "code",
   "execution_count": 10,
   "metadata": {},
   "outputs": [],
   "source": [
    "band_id = Catalog().add_band(\n",
    "            '7294028cc01114d89a473cf055d29dc5cd5ffe88:wonder_nut_farm', # id of the product we just created.\n",
    "            'image',\n",
    "            jpx_layer=0,\n",
    "            srcfile=1,\n",
    "            srcband=1,  # src band is always a 1-based index (counting starts at 1)\n",
    "            nbits=16,\n",
    "            dtype='UInt16',\n",
    "            nodata=0,\n",
    "            data_range=[0, 255],\n",
    "            type='class',\n",
    "#              default_range=(0,4000),\n",
    "        )['data']['id']"
   ]
  },
  {
   "cell_type": "code",
   "execution_count": 12,
   "metadata": {},
   "outputs": [],
   "source": [
    "image_on_disc = '/Users/karlaking/Downloads/WF_Orthomosaic_MonMar05215043/WF_Orthomosaic_export_MonMar05.jpg'\n",
    "acquired_date = '2018-03-15'\n",
    "\n",
    "Catalog().upload_image(image_on_disc,\n",
    "                       '7294028cc01114d89a473cf055d29dc5cd5ffe88:wonder_nut_farm',  \n",
    "                       acquired=acquired_date)"
   ]
  },
  {
   "cell_type": "code",
   "execution_count": null,
   "metadata": {},
   "outputs": [],
   "source": []
  }
 ],
 "metadata": {
  "kernelspec": {
   "display_name": "Python 2",
   "language": "python",
   "name": "python2"
  },
  "language_info": {
   "codemirror_mode": {
    "name": "ipython",
    "version": 2
   },
   "file_extension": ".py",
   "mimetype": "text/x-python",
   "name": "python",
   "nbconvert_exporter": "python",
   "pygments_lexer": "ipython2",
   "version": "2.7.10"
  }
 },
 "nbformat": 4,
 "nbformat_minor": 2
}
