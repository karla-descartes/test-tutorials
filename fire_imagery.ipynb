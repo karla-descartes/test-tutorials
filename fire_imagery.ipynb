{
 "cells": [
  {
   "cell_type": "code",
   "execution_count": null,
   "metadata": {},
   "outputs": [],
   "source": [
    "import descarteslabs as dl\n",
    "from datetime import datetime\n",
    "from shapely.geometry import Point\n",
    "import osgeo\n",
    "from osgeo import ogr, osr"
   ]
  },
  {
   "cell_type": "code",
   "execution_count": 90,
   "metadata": {},
   "outputs": [],
   "source": [
    "def make_geojson(bounding_box): \n",
    "    minx = bounding_box[0]\n",
    "    miny = bounding_box[1]\n",
    "    maxx = bounding_box[2]\n",
    "    maxy = bounding_box[3]\n",
    "\n",
    "    aoi = {\"coordinates\": [[            \n",
    "        [miny, minx],\n",
    "        [miny, maxx],\n",
    "        [maxy, maxx],\n",
    "        [maxy, minx],\n",
    "        [miny, minx]]], \n",
    "       \"type\": \"Polygon\"}\n",
    "\n",
    "    return aoi\n",
    "    "
   ]
  },
  {
   "cell_type": "code",
   "execution_count": 91,
   "metadata": {},
   "outputs": [],
   "source": [
    "def buffer_point(coords):\n",
    "    point = Point(coords[0], coords[1])\n",
    "    buffered_point = point.buffer(.083)\n",
    "    geo = make_geojson(buffered_point.bounds)\n",
    "    return geo\n",
    "    "
   ]
  },
  {
   "cell_type": "code",
   "execution_count": 103,
   "metadata": {},
   "outputs": [],
   "source": [
    "def buffer_point(coords):\n",
    "    dl.raster.dltile_from_latlon(coords[0],coords[1], resolution= 1024, tilesize=1024)"
   ]
  },
  {
   "cell_type": "code",
   "execution_count": 98,
   "metadata": {},
   "outputs": [],
   "source": [
    "def search_products(date, geometry):\n",
    "    from pprint import pprint \n",
    "    images = dl.metadata.search(\n",
    "        ['landsat:LC08:01:RT:TOAR', 'sentinel-2:L1C'],\n",
    "        geom= geometry, \n",
    "        start_datetime=date, \n",
    "        end_datetime= datetime.today().isoformat()\n",
    "        )\n",
    "    return [image['id'] for image in images['features']]"
   ]
  },
  {
   "cell_type": "code",
   "execution_count": 99,
   "metadata": {},
   "outputs": [],
   "source": [
    "def download_imagery(ids, geometry):\n",
    "    for image_id in ids: \n",
    "        print image_id\n",
    "        dl.raster.raster(\n",
    "                        image_id,\n",
    "                        bands=['red', 'green', 'blue', 'alpha'],\n",
    "                        scales=[[0,4000], [0, 4000], [0, 4000], None],\n",
    "                        data_type='Byte',\n",
    "                        cutline=geometry,\n",
    "                        save= True,\n",
    "                        outfile_basename=image_id)"
   ]
  },
  {
   "cell_type": "code",
   "execution_count": 100,
   "metadata": {},
   "outputs": [],
   "source": [
    "def find_imagery(fire_name, date, coords, footprint=None):\n",
    "    # Where name is a str, coords is an array of [lat,long], and footprint is an optional geometry\n",
    "    if footprint:\n",
    "        image_ids = search_products(date,footprint)\n",
    "        download_imagery(image_ids, footprint)\n",
    "    else:\n",
    "        image_ids = search_products(date, buffer_point(coords))\n",
    "        download_imagery(image_ids, buffer_point(coords))\n",
    "    "
   ]
  },
  {
   "cell_type": "markdown",
   "metadata": {},
   "source": [
    "Driver Code"
   ]
  },
  {
   "cell_type": "code",
   "execution_count": 101,
   "metadata": {},
   "outputs": [
    {
     "name": "stdout",
     "output_type": "stream",
     "text": [
      "landsat:LC08:01:RT:TOAR:meta_LC08_L1TP_014033_20180428_20180428_01_RT_v1\n",
      "sentinel-2:L1C:2018-04-26_18SVJ_99_S2B_v1\n"
     ]
    }
   ],
   "source": [
    "find_imagery('Test Fire', '2018-04-25',[39.143338, -75.747761])"
   ]
  },
  {
   "cell_type": "code",
   "execution_count": null,
   "metadata": {},
   "outputs": [],
   "source": [
    "# With lat,long\n",
    "search_products('2018-04-25', buffer_point([39.143338, -75.747761]))"
   ]
  },
  {
   "cell_type": "code",
   "execution_count": null,
   "metadata": {},
   "outputs": [],
   "source": [
    "# With footprint as geojson\n",
    "maryland = dl.places.shape('north-america_united-states_maryland')\n",
    "search_products('2018-04-25', maryland)"
   ]
  }
 ],
 "metadata": {
  "kernelspec": {
   "display_name": "dl-env",
   "language": "python",
   "name": "dl-env"
  },
  "language_info": {
   "codemirror_mode": {
    "name": "ipython",
    "version": 2
   },
   "file_extension": ".py",
   "mimetype": "text/x-python",
   "name": "python",
   "nbconvert_exporter": "python",
   "pygments_lexer": "ipython2",
   "version": "2.7.10"
  }
 },
 "nbformat": 4,
 "nbformat_minor": 2
}
