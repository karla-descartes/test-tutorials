{
 "cells": [
  {
   "cell_type": "code",
   "execution_count": 6,
   "metadata": {},
   "outputs": [],
   "source": [
    "import descarteslabs as dl\n",
    "from datetime import datetime\n",
    "from shapely.geometry import Point\n",
    "import osgeo\n",
    "from osgeo import ogr, osr"
   ]
  },
  {
   "cell_type": "code",
   "execution_count": null,
   "metadata": {},
   "outputs": [],
   "source": [
    "def find_imagery(fire_name, date, coords, footprint=None):\n",
    "    # Where name is a str, coords is an array of [lat,long], and footprint is an optional geometry\n",
    "    if footprint:\n",
    "        search_products(date,footprint)\n",
    "    \n",
    "    else:\n",
    "        buffer_point()\n",
    "    "
   ]
  },
  {
   "cell_type": "code",
   "execution_count": 3,
   "metadata": {},
   "outputs": [],
   "source": [
    "def search_products(date, geometry):\n",
    "    images = dl.metadata.search(\n",
    "        ['landsat:LC08:01:RT:TOAR', 'sentinel-2:L1C', 'sentinel-3:OLCI_RGB'],\n",
    "        geom= geometry, \n",
    "        start_datetime=date, \n",
    "        end_datetime= datetime.today().isoformat()\n",
    "        )\n",
    "    return [image['id'] for image in images['features']]"
   ]
  },
  {
   "cell_type": "code",
   "execution_count": 10,
   "metadata": {},
   "outputs": [],
   "source": [
    "maryland = dl.places.shape('north-america_united-states_maryland')"
   ]
  },
  {
   "cell_type": "code",
   "execution_count": 15,
   "metadata": {},
   "outputs": [
    {
     "data": {
      "text/plain": [
       "[u'landsat:LC08:01:RT:TOAR:meta_LC08_L1TP_014032_20180428_20180428_01_RT_v1',\n",
       " u'landsat:LC08:01:RT:TOAR:meta_LC08_L1TP_014033_20180428_20180428_01_RT_v1',\n",
       " u'landsat:LC08:01:RT:TOAR:meta_LC08_L1TP_014034_20180428_20180428_01_RT_v1',\n",
       " u'landsat:LC08:01:RT:TOAR:meta_LC08_L1TP_016032_20180426_20180426_01_RT_v1',\n",
       " u'landsat:LC08:01:RT:TOAR:meta_LC08_L1TP_016033_20180426_20180426_01_RT_v1',\n",
       " u'sentinel-2:L1C:2018-04-26_17SQD_31_S2B_v1',\n",
       " u'sentinel-2:L1C:2018-04-26_17TQE_13_S2B_v1',\n",
       " u'sentinel-2:L1C:2018-04-26_18STH_71_S2B_v1',\n",
       " u'sentinel-2:L1C:2018-04-26_18STJ_47_S2B_v1',\n",
       " u'sentinel-2:L1C:2018-04-26_18SUG_99_S2B_v1',\n",
       " u'sentinel-2:L1C:2018-04-26_18SUH_99_S2B_v1',\n",
       " u'sentinel-2:L1C:2018-04-26_18SUJ_99_S2B_v1',\n",
       " u'sentinel-2:L1C:2018-04-26_18SVG_96_S2B_v1',\n",
       " u'sentinel-2:L1C:2018-04-26_18SVH_99_S2B_v1',\n",
       " u'sentinel-2:L1C:2018-04-26_18SVJ_99_S2B_v1',\n",
       " u'sentinel-2:L1C:2018-04-26_18SWH_32_S2B_v1',\n",
       " u'sentinel-2:L1C:2018-04-26_18TTK_23_S2B_v1',\n",
       " u'sentinel-2:L1C:2018-04-26_18TUK_99_S2B_v1',\n",
       " u'sentinel-2:L1C:2018-04-27_17SPD_40_S2A_v1',\n",
       " u'sentinel-2:L1C:2018-04-27_17TPE_63_S2A_v1',\n",
       " u'sentinel-2:L1C:2018-04-28_18SVG_74_S2A_v1',\n",
       " u'sentinel-2:L1C:2018-04-28_18SVH_52_S2A_v1',\n",
       " u'sentinel-2:L1C:2018-05-01_17SQD_31_S2A_v1',\n",
       " u'sentinel-2:L1C:2018-05-01_17TQE_14_S2A_v1',\n",
       " u'sentinel-2:L1C:2018-05-01_18SVG_96_S2A_v1',\n",
       " u'sentinel-2:L1C:2018-05-01_18SVH_99_S2A_v1',\n",
       " u'sentinel-2:L1C:2018-05-01_18TTK_23_S2A_v1',\n",
       " u'sentinel-2:L1C:2018-05-01_18TUK_99_S2A_v1',\n",
       " u'sentinel-3:OLCI_RGB:meta_2018-04-25-1445_18N_07_S3A_v0',\n",
       " u'sentinel-3:OLCI_RGB:meta_2018-04-27-1533_17N_07_S3A_v0',\n",
       " u'sentinel-3:OLCI_RGB:meta_2018-04-27-1533_18N_07_S3A_v0']"
      ]
     },
     "execution_count": 15,
     "metadata": {},
     "output_type": "execute_result"
    }
   ],
   "source": [
    "search_products('2018-04-25', maryland)"
   ]
  },
  {
   "cell_type": "code",
   "execution_count": 31,
   "metadata": {},
   "outputs": [],
   "source": [
    "def buffer_point(coords):\n",
    "    point = Point(coords[0], coords[1])\n",
    "    spatialReference = osgeo.ogr.ImportFromEPSG(4326)\n",
    "#     spatialReference.ImportFromProj4('+proj=longlat +ellps=WGS84+datum=WGS84 +no_defs')\n",
    "    print spatialReference\n",
    "    "
   ]
  },
  {
   "cell_type": "code",
   "execution_count": 32,
   "metadata": {},
   "outputs": [
    {
     "ename": "AttributeError",
     "evalue": "'module' object has no attribute 'ImportFromEPSG'",
     "output_type": "error",
     "traceback": [
      "\u001b[0;31m---------------------------------------------------------------------------\u001b[0m",
      "\u001b[0;31mAttributeError\u001b[0m                            Traceback (most recent call last)",
      "\u001b[0;32m<ipython-input-32-bc927bd6de1f>\u001b[0m in \u001b[0;36m<module>\u001b[0;34m()\u001b[0m\n\u001b[0;32m----> 1\u001b[0;31m \u001b[0mbuffer_point\u001b[0m\u001b[0;34m(\u001b[0m\u001b[0;34m[\u001b[0m\u001b[0;36m1\u001b[0m\u001b[0;34m,\u001b[0m\u001b[0;36m2\u001b[0m\u001b[0;34m]\u001b[0m\u001b[0;34m)\u001b[0m\u001b[0;34m\u001b[0m\u001b[0m\n\u001b[0m",
      "\u001b[0;32m<ipython-input-31-f866b457b2b4>\u001b[0m in \u001b[0;36mbuffer_point\u001b[0;34m(coords)\u001b[0m\n\u001b[1;32m      1\u001b[0m \u001b[0;32mdef\u001b[0m \u001b[0mbuffer_point\u001b[0m\u001b[0;34m(\u001b[0m\u001b[0mcoords\u001b[0m\u001b[0;34m)\u001b[0m\u001b[0;34m:\u001b[0m\u001b[0;34m\u001b[0m\u001b[0m\n\u001b[1;32m      2\u001b[0m     \u001b[0mpoint\u001b[0m \u001b[0;34m=\u001b[0m \u001b[0mPoint\u001b[0m\u001b[0;34m(\u001b[0m\u001b[0mcoords\u001b[0m\u001b[0;34m[\u001b[0m\u001b[0;36m0\u001b[0m\u001b[0;34m]\u001b[0m\u001b[0;34m,\u001b[0m \u001b[0mcoords\u001b[0m\u001b[0;34m[\u001b[0m\u001b[0;36m1\u001b[0m\u001b[0;34m]\u001b[0m\u001b[0;34m)\u001b[0m\u001b[0;34m\u001b[0m\u001b[0m\n\u001b[0;32m----> 3\u001b[0;31m     \u001b[0mspatialReference\u001b[0m \u001b[0;34m=\u001b[0m \u001b[0mosgeo\u001b[0m\u001b[0;34m.\u001b[0m\u001b[0mogr\u001b[0m\u001b[0;34m.\u001b[0m\u001b[0mImportFromEPSG\u001b[0m\u001b[0;34m(\u001b[0m\u001b[0;36m4326\u001b[0m\u001b[0;34m)\u001b[0m\u001b[0;34m\u001b[0m\u001b[0m\n\u001b[0m\u001b[1;32m      4\u001b[0m \u001b[0;31m#     spatialReference.ImportFromProj4('+proj=longlat +ellps=WGS84+datum=WGS84 +no_defs')\u001b[0m\u001b[0;34m\u001b[0m\u001b[0;34m\u001b[0m\u001b[0m\n\u001b[1;32m      5\u001b[0m     \u001b[0;32mprint\u001b[0m \u001b[0mspatialReference\u001b[0m\u001b[0;34m\u001b[0m\u001b[0m\n",
      "\u001b[0;31mAttributeError\u001b[0m: 'module' object has no attribute 'ImportFromEPSG'"
     ]
    }
   ],
   "source": [
    "buffer_point([1,2])"
   ]
  },
  {
   "cell_type": "code",
   "execution_count": 35,
   "metadata": {},
   "outputs": [
    {
     "data": {
      "text/plain": [
       "osgeo.osr.SpatialReference"
      ]
     },
     "execution_count": 35,
     "metadata": {},
     "output_type": "execute_result"
    }
   ],
   "source": [
    "latlong = osr.SpatialReference() #define test1\n",
    "latlong.ImportFromEPSG(4326)\n",
    "\n",
    "type(latlong)\n"
   ]
  },
  {
   "cell_type": "code",
   "execution_count": 1,
   "metadata": {},
   "outputs": [],
   "source": [
    "from pyproj import Proj"
   ]
  },
  {
   "cell_type": "code",
   "execution_count": 8,
   "metadata": {},
   "outputs": [],
   "source": [
    "wgs84 = Proj(init=\"EPSG:4326\")\n",
    "p1= Point(43.884, -78)\n",
    "p1_proj = wgs84(p1.y, p1.x)"
   ]
  },
  {
   "cell_type": "code",
   "execution_count": 11,
   "metadata": {},
   "outputs": [
    {
     "ename": "AttributeError",
     "evalue": "'Point' object has no attribute 'geometry'",
     "output_type": "error",
     "traceback": [
      "\u001b[0;31m---------------------------------------------------------------------------\u001b[0m",
      "\u001b[0;31mAttributeError\u001b[0m                            Traceback (most recent call last)",
      "\u001b[0;32m<ipython-input-11-978f5be01d66>\u001b[0m in \u001b[0;36m<module>\u001b[0;34m()\u001b[0m\n\u001b[0;32m----> 1\u001b[0;31m \u001b[0mp1\u001b[0m\u001b[0;34m.\u001b[0m\u001b[0mgeometry\u001b[0m\u001b[0;34m\u001b[0m\u001b[0m\n\u001b[0m",
      "\u001b[0;31mAttributeError\u001b[0m: 'Point' object has no attribute 'geometry'"
     ]
    }
   ],
   "source": [
    "p1.geometry"
   ]
  }
 ],
 "metadata": {
  "kernelspec": {
   "display_name": "dl-env",
   "language": "python",
   "name": "dl-env"
  },
  "language_info": {
   "codemirror_mode": {
    "name": "ipython",
    "version": 2
   },
   "file_extension": ".py",
   "mimetype": "text/x-python",
   "name": "python",
   "nbconvert_exporter": "python",
   "pygments_lexer": "ipython2",
   "version": "2.7.10"
  }
 },
 "nbformat": 4,
 "nbformat_minor": 2
}
